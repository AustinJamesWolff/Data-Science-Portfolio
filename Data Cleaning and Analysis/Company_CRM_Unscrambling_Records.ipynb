{
  "nbformat": 4,
  "nbformat_minor": 0,
  "metadata": {
    "colab": {
      "name": "Copy of Company_CRM_Unscrambling_Records.ipynb",
      "provenance": [],
      "collapsed_sections": []
    },
    "kernelspec": {
      "name": "python3",
      "display_name": "Python 3"
    },
    "language_info": {
      "name": "python"
    }
  },
  "cells": [
    {
      "cell_type": "markdown",
      "metadata": {
        "id": "EYbMFFLgh3y5"
      },
      "source": [
        "### **The Problem:**\n",
        "#### When The Company (kept anonymous for privacy) began using the HighLevel CRM (\"HighLevel\"), data had to exported from the old CRM, AgileCRM (\"Agile\"), and imported into HighLevel. **Apparently, a few phone numbers and emails were switched between contacts during the import process for an unknown reason, and seemingly at random.**\n",
        "\n",
        "It's likely the unwanted \"phone number swap\" happened due to an unknown error with HighLevel, however, this bug was noticed by the sales team a few months after the import, and the HighLevel tech team only keeps logs of imports for up to one month. So now, they need help with the following:\n",
        "\n",
        "- Determining which contacts had their phone numbers or emails swapped (**bugContacts**),\n",
        "- Matching the phone numbers and emails to the correct contact,\n",
        "- Creating a new spreadsheet with only the corrected contacts (**cleanContacts**)\n",
        "- Importing the **cleanContacts** back into HighLevel in a way which overwrites only the wrong phone numbers, and does not change any other data already conencted with the contact,\n",
        "  - For example, importing the contacts with the correct phone numbers should simply overwrite wrong phone numbers, and nothing else such as name, email, notes, etc.\n",
        "\n",
        "**Side Note:**\n",
        "\n",
        "- If overwriting one record at a time was possible, the salesmen would have just corrected the data each time they found an error, but this bug was like a full web of contacts with their information all intertwined with each other. So you had to find out how many contacts were intertwined with each other, then you had to change the entire web of contacts at once rather than individually.\n",
        "\n",
        "<br>\n",
        "\n",
        "\n",
        "\n",
        "### **Brainstormed Possible Solution:**\n",
        "- Import both csv files of HighLevel and AgileCRM\n",
        "- Create a new dataframe containing only names and emails which match both datasets, **and** where the phone numbers do not match,\n",
        "- Columns should be as followed:\n",
        "  - highlevel_fullname\n",
        "  - highlevel_email\n",
        "  - highlevel_phone\n",
        "  - agile_fullname\n",
        "  - agile_email\n",
        "  - agile_phone\n",
        "- Records from Agile are correct, so overwrite *highlevel_phone* with *agile_phone*\n",
        "- Create new DataFrame, **cleanedHighLevel** with the following:\n",
        "  - highlevel_fullname\n",
        "  - highlevel_email\n",
        "  - highlevel_phone\n",
        "- Export new spreadsheet, **cleanedHighLevel.csv**\n",
        "- Import **cleanedHighLevel.csv** into HighLevel, and overwrite the phone numbers of all existing contacts in HighLevel with those in the spreadsheet.\n",
        "\n",
        "<br>\n",
        "\n",
        "\n",
        "### **How The Problem Was Actually Solved:**\n",
        "\n",
        "The notebook below details the exact steps taken to fix their CRM. Here is a brief summary:\n",
        "\n",
        "  - I imported the entire dataset from Highlevel and Agile (their new and old CRMs, respectively) and cleaned the data. Then I organized it in a way to easily comapre the two datasets with each each other.\n",
        " \n",
        "  - Then I merged both datasets into a dataframe with all contacts who shared the same email (a \"same-email\" list), but otherwise have different names and/or phone numbers on both CRMs. \n",
        "\n",
        "  - Then I created a 2nd dataframe with all contacts who shared the same phone number, but had different names and/or emails (a \"same-phone\" list). \n",
        "\n",
        "  - Most of the records in the \"same-phone\" list were different in Highlevel on purpose: the Highlevel CRM is constantly updated, while AgileCRM is no longer updated. This means that the majority of the data inconsistency turned out to simply be the salesmen updating contact info as they went along, and these records could be ommitted from our dataset-cleaning process.\n",
        "\n",
        "  - On the \"same-phone\" list (about 160 contacts), I noticed the bottom 24 seemed to match the 24 contacts in the \"same-email,\" just organized differently. Not only that, I noticed a pattern of data scrambling on the bottom 24 records of both lists (the pattern is too complicated to summarize here). \n",
        "\n",
        "  - There were a few outlier records which did not fit the pattern, making it seem much more complex than it really was. Once I manually scrubbed the outliers off the list, the pattern became much more straightforward.\n",
        "\n",
        "  - Thanks to this pattern, I was able to detect where holes of data where, which eventually led me to the exact records in the new CRM which were scrambled.  \n",
        "  \n",
        "  - I re-exported the correct data from the old CRM and simply overwrote the new CRM data on those 24 records. I then checked each one individually to double-check the work (this double-checking took less than 5 minutes). \n",
        "\n",
        "<br>\n",
        "\n",
        "\n",
        "### **Conclusion:**\n",
        "  \n",
        "  - The CRM is now fully functional. Before I worked on this, it was unknown how many records were swapped, and it couldn't be done individually. A full end-to-end solution had to be thought of and all data had to be overwriten at once to overcome the constraints of the software. Now the salesmen can happily focus on closing more leads rather than worrying if their leads' contact information is scrambled.\n",
        "\n",
        "<br>\n",
        "\n",
        "\n",
        "### **Tools Used:**\n",
        "\n",
        "  - Python, Google Colab, Pandas Library, DataPrep Library, Google Sheets, HighLevel CRM, AgileCRM\n",
        "\n",
        "\n"
      ]
    },
    {
      "cell_type": "code",
      "metadata": {
        "id": "4iNsGcSqhNaf"
      },
      "source": [
        "# An extra line will be added to each code block for readability\n",
        "from google.colab import drive\n",
        "drive.mount('/content/gdrive')\n"
      ],
      "execution_count": null,
      "outputs": []
    },
    {
      "cell_type": "code",
      "metadata": {
        "colab": {
          "resources": {
            "http://localhost:8080/nbextensions/google.colab/files.js": {
              "data": "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",
              "ok": true,
              "headers": [
                [
                  "content-type",
                  "application/javascript"
                ]
              ],
              "status": 200,
              "status_text": ""
            }
          },
          "base_uri": "https://localhost:8080/",
          "height": 55
        },
        "id": "a8J_b_2aMQMY",
        "outputId": "a51f7e52-fed2-47a9-c8d0-e268b9904e8e"
      },
      "source": [
        "from google.colab import files\n",
        "files.upload()\n"
      ],
      "execution_count": null,
      "outputs": [
        {
          "output_type": "display_data",
          "data": {
            "text/html": [
              "\n",
              "     <input type=\"file\" id=\"files-e3b8f239-ea77-468b-9307-a6a29b4bac3d\" name=\"files[]\" multiple disabled\n",
              "        style=\"border:none\" />\n",
              "     <output id=\"result-e3b8f239-ea77-468b-9307-a6a29b4bac3d\">\n",
              "      Upload widget is only available when the cell has been executed in the\n",
              "      current browser session. Please rerun this cell to enable.\n",
              "      </output>\n",
              "      <script src=\"/nbextensions/google.colab/files.js\"></script> "
            ],
            "text/plain": [
              "<IPython.core.display.HTML object>"
            ]
          },
          "metadata": {}
        },
        {
          "output_type": "execute_result",
          "data": {
            "text/plain": [
              "{}"
            ]
          },
          "metadata": {},
          "execution_count": 3
        }
      ]
    },
    {
      "cell_type": "code",
      "metadata": {
        "id": "SR3Q6fn0PM_n"
      },
      "source": [
        "import pandas as pd\n",
        "\n",
        "# Import both csv files of HighLevel and AgileCRM\n",
        "od_highlevel = pd.read_csv('/content/drive/MyDrive/Data Science Projects/Company_CRM_Dataset_Comparison/oldHighlevel.csv', dtype = str)\n",
        "old_agile = pd.read_csv('/content/drive/MyDrive/Data Science Projects/Company_CRM_Dataset_Comparison/oldAgile.csv', dtype = str)\n"
      ],
      "execution_count": null,
      "outputs": []
    },
    {
      "cell_type": "code",
      "metadata": {
        "id": "0X-lljVIQ6kZ"
      },
      "source": [
        "# Drop columns in old_highlevel which aren't name, phone, or email\n",
        "old_highlevel.drop([\"Index\",\"Business Name\",\"Created\",\"Last Activity\",\"Tags\",\"Unnamed: 9\"], axis=1, inplace=True)\n"
      ],
      "execution_count": null,
      "outputs": []
    },
    {
      "cell_type": "code",
      "metadata": {
        "id": "al-NfgUDS-U3"
      },
      "source": [
        "# Test dropped columns\n",
        "old_highlevel.head()\n"
      ],
      "execution_count": null,
      "outputs": []
    },
    {
      "cell_type": "code",
      "metadata": {
        "id": "14wxS3ApWsc0"
      },
      "source": [
        "# Rename old_agile columns to match old_highlevel\n",
        "old_agile.rename(columns={\"Email(default)\":\"Email\",\"Phone(default)\":\"Phone\"}, inplace=True)\n"
      ],
      "execution_count": null,
      "outputs": []
    },
    {
      "cell_type": "code",
      "metadata": {
        "id": "oofMKqTAGHlf"
      },
      "source": [
        "# Combine all phone columns in old_agile (the CRM had multiple places to input phone numbers)\n",
        "old_agile['Phone'].fillna(old_agile['Phone(Work)'], inplace=True)\n",
        "old_agile['Phone'].fillna(old_agile['Phone(Mobile)'], inplace=True)\n"
      ],
      "execution_count": null,
      "outputs": []
    },
    {
      "cell_type": "code",
      "metadata": {
        "id": "V_zIeMZTTTZq"
      },
      "source": [
        "# Test dropped columns\n",
        "old_agile = old_agile[[\"First Name\",\"Last Name\",\"Phone\",\"Email\"]]\n",
        "old_agile.head()\n"
      ],
      "execution_count": null,
      "outputs": []
    },
    {
      "cell_type": "code",
      "metadata": {
        "id": "B1kevgeARWpb"
      },
      "source": [
        "# Columns in old_highlevel should be renamed as followed:\n",
        "# highlevel_firstname\n",
        "# highlevel_lastname\n",
        "# highlevel_email\n",
        "# highlevel_phone\n",
        "old_highlevel = old_highlevel.rename(\n",
        "    columns={\n",
        "        \"First Name\":\"highlevel_firstname\",\n",
        "        \"Last Name\":\"highlevel_lastname\",\n",
        "        \"Phone\":\"highlevel_phone\",\n",
        "        \"Email\":\"highlevel_email\"\n",
        "    }\n",
        ")\n"
      ],
      "execution_count": null,
      "outputs": []
    },
    {
      "cell_type": "code",
      "metadata": {
        "id": "0-bffjr6YUaH"
      },
      "source": [
        "# Test\n",
        "old_highlevel.head()\n"
      ],
      "execution_count": null,
      "outputs": []
    },
    {
      "cell_type": "code",
      "metadata": {
        "id": "IC-ZacUaRQtf"
      },
      "source": [
        "# Columns in old_agile should be renamed as followed:\n",
        "# agile_firstname\n",
        "# agile_lastname\n",
        "# agile_email\n",
        "# agile_phone\n",
        "old_agile = old_agile.rename(\n",
        "    columns={\n",
        "        \"First Name\":\"agile_firstname\",\n",
        "        \"Last Name\":\"agile_lastname\",\n",
        "        \"Phone\":\"agile_phone\",\n",
        "        \"Email\":\"agile_email\"\n",
        "    }\n",
        ")\n"
      ],
      "execution_count": null,
      "outputs": []
    },
    {
      "cell_type": "code",
      "metadata": {
        "id": "m6hSfgYtYaWL"
      },
      "source": [
        "# Test\n",
        "old_agile.head()"
      ],
      "execution_count": null,
      "outputs": []
    },
    {
      "cell_type": "code",
      "metadata": {
        "id": "veQIyqsHAuU8"
      },
      "source": [
        "# This is necessary to use the DataPrep library\n",
        "pip install -U dataprep\n"
      ],
      "execution_count": null,
      "outputs": []
    },
    {
      "cell_type": "code",
      "metadata": {
        "id": "dO2dZgtzb-C9"
      },
      "source": [
        "# Import DataPrep library to clean phone numbers\n",
        "from dataprep.clean import clean_phone\n"
      ],
      "execution_count": null,
      "outputs": []
    },
    {
      "cell_type": "code",
      "metadata": {
        "colab": {
          "base_uri": "https://localhost:8080/"
        },
        "id": "xrZtEoPGYdRn",
        "outputId": "26849011-8b1e-413b-ad61-b7e5ed171e61"
      },
      "source": [
        "# Format the phone numbers the same\n",
        "old_agile = clean_phone(old_agile, 'agile_phone', output_format='national', inplace=True)\n"
      ],
      "execution_count": null,
      "outputs": [
        {
          "output_type": "stream",
          "name": "stderr",
          "text": [
            "                                     "
          ]
        },
        {
          "output_type": "stream",
          "name": "stdout",
          "text": [
            "Phone Number Cleaning Report:\n",
            "\t8518 values cleaned (86.3%)\n",
            "\t520 values unable to be parsed (5.27%), set to NaN\n",
            "Result contains 8618 (87.32%) values in the correct format and 1252 null values (12.68%)\n"
          ]
        },
        {
          "output_type": "stream",
          "name": "stderr",
          "text": [
            "\r"
          ]
        }
      ]
    },
    {
      "cell_type": "code",
      "metadata": {
        "colab": {
          "base_uri": "https://localhost:8080/"
        },
        "id": "wDLacnEMy5A5",
        "outputId": "3dbe6740-bb9c-4ca3-c421-27c21142574c"
      },
      "source": [
        "# Format the phone numbers the same\n",
        "old_highlevel = clean_phone(old_highlevel, 'highlevel_phone', output_format='national', inplace=True)\n"
      ],
      "execution_count": null,
      "outputs": [
        {
          "output_type": "stream",
          "name": "stderr",
          "text": [
            "                                                                                                "
          ]
        },
        {
          "output_type": "stream",
          "name": "stdout",
          "text": [
            "Phone Number Cleaning Report:\n",
            "\t8510 values cleaned (88.83%)\n",
            "\t27 values unable to be parsed (0.28%), set to NaN\n",
            "Result contains 8510 (88.83%) values in the correct format and 1070 null values (11.17%)\n"
          ]
        },
        {
          "output_type": "stream",
          "name": "stderr",
          "text": [
            "\r"
          ]
        }
      ]
    },
    {
      "cell_type": "code",
      "metadata": {
        "id": "dzey0U_JQMZZ"
      },
      "source": [
        "# Remove all relevant (email and phone) NaN values\n",
        "old_highlevel = old_highlevel[old_highlevel['highlevel_phone_clean'].notna()]\n",
        "old_highlevel = old_highlevel[old_highlevel['highlevel_email'].notna()]\n",
        "old_agile = old_agile[old_agile['agile_phone_clean'].notna()]\n",
        "old_agile = old_agile[old_agile['agile_email'].notna()]\n"
      ],
      "execution_count": null,
      "outputs": []
    },
    {
      "cell_type": "code",
      "metadata": {
        "colab": {
          "base_uri": "https://localhost:8080/"
        },
        "id": "v7UXYjs6GpDg",
        "outputId": "5b8a5535-0a02-430e-c8ee-6adb6aa0c72d"
      },
      "source": [
        "# Check for relevant NaN values\n",
        "print(old_highlevel.isnull().sum())\n",
        "print(old_agile.isnull().sum())"
      ],
      "execution_count": null,
      "outputs": [
        {
          "output_type": "stream",
          "name": "stdout",
          "text": [
            "highlevel_firstname        0\n",
            "highlevel_lastname       537\n",
            "highlevel_email            0\n",
            "highlevel_phone_clean      0\n",
            "dtype: int64\n",
            "agile_firstname        1\n",
            "agile_lastname       431\n",
            "agile_email            0\n",
            "agile_phone_clean      0\n",
            "dtype: int64\n"
          ]
        }
      ]
    },
    {
      "cell_type": "code",
      "metadata": {
        "colab": {
          "base_uri": "https://localhost:8080/"
        },
        "id": "jqrVM4XaMlDT",
        "outputId": "b204958f-9461-4d4a-e5dd-85e6a10fc52d"
      },
      "source": [
        "# Easy viewing of both lists if you uncomment\n",
        "# old_highlevel.head()\n",
        "# old_agile.head()\n",
        "# old_agile.shape\n",
        "old_highlevel.shape\n"
      ],
      "execution_count": null,
      "outputs": [
        {
          "output_type": "execute_result",
          "data": {
            "text/plain": [
              "(8135, 4)"
            ]
          },
          "metadata": {},
          "execution_count": 43
        }
      ]
    },
    {
      "cell_type": "code",
      "metadata": {
        "id": "ovyli95zdgd7"
      },
      "source": [
        "# Check to see if email records in old_agile are in old_highlevel\n",
        "old_agile_matched_emails = old_agile[old_agile['agile_email'].isin(old_highlevel['highlevel_email'])]\n"
      ],
      "execution_count": null,
      "outputs": []
    },
    {
      "cell_type": "code",
      "metadata": {
        "colab": {
          "base_uri": "https://localhost:8080/"
        },
        "id": "5sz87Ch8jtrG",
        "outputId": "84c90d46-e092-45b1-882b-19cb4cafb782"
      },
      "source": [
        "# Test\n",
        "# old_agile_matched_emails.head()\n",
        "old_agile_matched_emails.shape\n"
      ],
      "execution_count": null,
      "outputs": [
        {
          "output_type": "execute_result",
          "data": {
            "text/plain": [
              "(6241, 4)"
            ]
          },
          "metadata": {},
          "execution_count": 45
        }
      ]
    },
    {
      "cell_type": "code",
      "metadata": {
        "id": "ojgnZJ1hBc6_"
      },
      "source": [
        "# New dataframe for only emails in HighLevel that are also in Agile\n",
        "old_highlevel_matched_emails = old_highlevel[old_highlevel['highlevel_email'].isin(old_agile_matched_emails['agile_email'])]\n"
      ],
      "execution_count": null,
      "outputs": []
    },
    {
      "cell_type": "code",
      "metadata": {
        "colab": {
          "base_uri": "https://localhost:8080/"
        },
        "id": "80EBO8tVCrBr",
        "outputId": "2bbaef13-b3c5-4e55-84e7-24e76c9a0c43"
      },
      "source": [
        "# Test\n",
        "old_highlevel_matched_emails.shape"
      ],
      "execution_count": null,
      "outputs": [
        {
          "output_type": "execute_result",
          "data": {
            "text/plain": [
              "(6286, 4)"
            ]
          },
          "metadata": {},
          "execution_count": 47
        }
      ]
    },
    {
      "cell_type": "code",
      "metadata": {
        "id": "ToFI8zxnK8_D"
      },
      "source": [
        "# Rename so they all have matching column names\n",
        "old_agile_matched_emails = old_agile_matched_emails.rename(\n",
        "    columns = {\n",
        "        \"agile_email\":\"EMAIL\"\n",
        "    }\n",
        ")\n"
      ],
      "execution_count": null,
      "outputs": []
    },
    {
      "cell_type": "code",
      "metadata": {
        "id": "K4yKC3K-LMo1"
      },
      "source": [
        "old_highlevel_matched_emails = old_highlevel_matched_emails.rename(\n",
        "    columns = {\n",
        "        \"highlevel_email\":\"EMAIL\"\n",
        "    }\n",
        ")\n"
      ],
      "execution_count": null,
      "outputs": []
    },
    {
      "cell_type": "code",
      "metadata": {
        "id": "A1P-mj2NLVGF"
      },
      "source": [
        "# Test\n",
        "old_agile_matched_emails.head()\n"
      ],
      "execution_count": null,
      "outputs": []
    },
    {
      "cell_type": "code",
      "metadata": {
        "id": "CqlKVomRFuL4"
      },
      "source": [
        "# Test inner_merge with a test dataframe variable\n",
        "test_EMAIL_dataframe = pd.merge(old_highlevel_matched_emails, old_agile_matched_emails, how=\"outer\", on=['EMAIL'])\n"
      ],
      "execution_count": null,
      "outputs": []
    },
    {
      "cell_type": "code",
      "metadata": {
        "id": "akLCHbiCa37s"
      },
      "source": [
        "# Drop duplicates\n",
        "test_EMAIL_dataframe = test_EMAIL_dataframe.drop_duplicates(keep=\"first\")\n"
      ],
      "execution_count": null,
      "outputs": []
    },
    {
      "cell_type": "code",
      "metadata": {
        "id": "WKRg_jq_LdY2"
      },
      "source": [
        "# Test views of the new DataFrame. Just uncomment.\n",
        "# test_EMAIL_dataframe.shape\n",
        "# test_EMAIL_dataframe.tail(50)\n",
        "# test_EMAIL_dataframe[6190:6250]\n"
      ],
      "execution_count": null,
      "outputs": []
    },
    {
      "cell_type": "code",
      "metadata": {
        "id": "dhkyYNMZbPuX"
      },
      "source": [
        "# Create a new Dataframe where only keep rows if ['highlevel_phone_clean'] != ['agile_phone_clean']\n",
        "different_phone_dataframe = test_EMAIL_dataframe[test_EMAIL_dataframe['highlevel_phone_clean'] != test_EMAIL_dataframe['agile_phone_clean']]\n"
      ],
      "execution_count": null,
      "outputs": []
    },
    {
      "cell_type": "code",
      "metadata": {
        "id": "U4aAhPocK4Ke"
      },
      "source": [
        "# This is to drop any \"outlier records\" we have ether already fixed or ruled out,\n",
        "# because time has passed and the Highlevel dataset is much more up to date\n",
        "\n",
        "# different_phone_dataframe = different_phone_dataframe[different_phone_dataframe['EMAIL'] != 'arenamike1950@gmail.com']\n",
        "# different_phone_dataframe = different_phone_dataframe[different_phone_dataframe['EMAIL'] != 'e.t.tiles@hotmail.com']\n",
        "# different_phone_dataframe = different_phone_dataframe[different_phone_dataframe['EMAIL'] != 'lmason1952@yahoo.com']\n",
        "# different_phone_dataframe = different_phone_dataframe[different_phone_dataframe['EMAIL'] != 'oscarmendoza1955@gmail.com']\n",
        "# different_phone_dataframe = different_phone_dataframe[different_phone_dataframe['EMAIL'] != 'austinwolff88@gmail.com']\n",
        "different_phone_dataframe = different_phone_dataframe[different_phone_dataframe['highlevel_lastname'].notna()]\n"
      ],
      "execution_count": null,
      "outputs": []
    },
    {
      "cell_type": "code",
      "metadata": {
        "id": "YyFbOBpvdZ5k"
      },
      "source": [
        "# Test \n",
        "different_phone_dataframe\n",
        "# different_phone_dataframe.shape\n"
      ],
      "execution_count": null,
      "outputs": []
    },
    {
      "cell_type": "markdown",
      "metadata": {
        "id": "UKmRbTHM2ymL"
      },
      "source": [
        "We have just created our \"email-list,\" meaning a merging of the to CRMs based on contact email, but only for contacts whose phone numbers do not match each other. \n",
        "\n",
        "We will now do the same below, but this time, creating a \"phone-list,\" meaning a merging of lists based on contact phone numbers, but only for contacts whose emails do not match the original."
      ]
    },
    {
      "cell_type": "code",
      "metadata": {
        "id": "5YfW12OSeLl4"
      },
      "source": [
        "# Create a new Dataframe for all rows that match phone numbers\n",
        "old_agile_matched_phone = old_agile[old_agile['agile_phone_clean'].isin(old_highlevel['highlevel_phone_clean'])]\n",
        "old_highlevel_matched_phone = old_highlevel[old_highlevel['highlevel_phone_clean'].isin(old_agile_matched_phone['agile_phone_clean'])]\n"
      ],
      "execution_count": null,
      "outputs": []
    },
    {
      "cell_type": "code",
      "metadata": {
        "id": "vF5UJrMEscKb"
      },
      "source": [
        "# Test\n",
        "old_agile_matched_phone\n",
        "# old_highlevel_matched_phone"
      ],
      "execution_count": null,
      "outputs": []
    },
    {
      "cell_type": "code",
      "metadata": {
        "id": "1EudCRblsrt0"
      },
      "source": [
        "# Rename so they all have matching column names\n",
        "old_agile_matched_phone = old_agile_matched_phone.rename(\n",
        "    columns = {\n",
        "        \"agile_phone_clean\":\"PHONE\"\n",
        "    }\n",
        ")\n",
        "\n",
        "old_highlevel_matched_phone = old_highlevel_matched_phone.rename(\n",
        "   columns = {\n",
        "       \"highlevel_phone_clean\":\"PHONE\"\n",
        "   } \n",
        ")\n"
      ],
      "execution_count": null,
      "outputs": []
    },
    {
      "cell_type": "code",
      "metadata": {
        "id": "rM3pop0wtEai"
      },
      "source": [
        "# Merge them togehter in new dataframe\n",
        "test_phone_dataframe = pd.merge(old_highlevel_matched_phone, old_agile_matched_phone, how=\"outer\", on=['PHONE'])\n"
      ],
      "execution_count": null,
      "outputs": []
    },
    {
      "cell_type": "code",
      "metadata": {
        "id": "PVLxx9OBtOt-"
      },
      "source": [
        "# Drop duplicates\n",
        "test_phone_dataframe = test_phone_dataframe.drop_duplicates(keep=\"first\")\n"
      ],
      "execution_count": null,
      "outputs": []
    },
    {
      "cell_type": "code",
      "metadata": {
        "id": "QY8CnyAEtS0O"
      },
      "source": [
        "# test\n",
        "test_phone_dataframe"
      ],
      "execution_count": null,
      "outputs": []
    },
    {
      "cell_type": "code",
      "metadata": {
        "id": "lwKxgIWWtrXL"
      },
      "source": [
        "# New dataframe if the rows have different emails but the same phone number\n",
        "different_email_dataframe = test_phone_dataframe[test_phone_dataframe['highlevel_email'] != test_phone_dataframe['agile_email']]\n"
      ],
      "execution_count": null,
      "outputs": []
    },
    {
      "cell_type": "code",
      "metadata": {
        "id": "wUjH8Scct_Zx"
      },
      "source": [
        "#Test\n",
        "different_email_dataframe\n"
      ],
      "execution_count": null,
      "outputs": []
    },
    {
      "cell_type": "code",
      "metadata": {
        "id": "Ew6g9C_XLA_3"
      },
      "source": [
        "# Export different_email_dataframe\n",
        "different_email_dataframe.to_csv('same_phone_different_email.csv')\n"
      ],
      "execution_count": null,
      "outputs": []
    },
    {
      "cell_type": "code",
      "metadata": {
        "id": "yWQQ_8y5OOMm"
      },
      "source": [
        "# Export different_phone_dataframe\n",
        "# Any spreadsheet application offers a quicker way for me to visual and parse data that isn't too big (and can be analyzed within a few minutes)\n",
        "# Luckily, after reviewing \"different_email_dataframe,\" there was only a count of 24 records that were scrambled with the discovered pattern.\n",
        "# The other 100+ records in that dataframe didn't match on purpose, as the Highlevel data is constantly updated while Agile's is not\n",
        "# Therefore, I will export different_phone_dataframe and see if the records here match the exact pattern and indexing as different_email_dataframe\n",
        "\n",
        "different_phone_dataframe.to_csv('same_email_different_phone.csv')\n"
      ],
      "execution_count": null,
      "outputs": []
    },
    {
      "cell_type": "markdown",
      "metadata": {
        "id": "0pCnNq9vQeU9"
      },
      "source": [
        "At this point, I uploaded the csv files into Google Sheets for me to quickly visualize and move around cells or rows based on the pattern that began to emerge after scrubbing outliers. Once the pattern was fully recognized, I was able to quickly group together the \"web of contacts\" in both CRMs. I tagged them 'reupload' in both programs, exported the original data from AgileCRM, and reuploaded it to overwrite the data in Highlevel CRM. I double-checked each contact to ensure the problem was solved. Indeed it was.\n",
        "\n",
        "<br>\n",
        "\n",
        "**Austin Wolff**\n",
        "\n",
        "**9/2/21**"
      ]
    }
  ]
}