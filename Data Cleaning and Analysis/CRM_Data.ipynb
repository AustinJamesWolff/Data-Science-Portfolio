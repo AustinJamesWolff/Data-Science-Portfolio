{
  "nbformat": 4,
  "nbformat_minor": 0,
  "metadata": {
    "colab": {
      "name": "Company_CRM_Unscrambling_Records.ipynb",
      "provenance": [],
      "collapsed_sections": [],
      "mount_file_id": "1kiLbkduDTuOqJsyD4UwKfr7zGzurUb-Y",
      "authorship_tag": "ABX9TyPHtjPINLyT8NApM3z6973c",
      "include_colab_link": true
    },
    "kernelspec": {
      "name": "python3",
      "display_name": "Python 3"
    },
    "language_info": {
      "name": "python"
    }
  },
  "cells": [
    {
      "cell_type": "markdown",
      "metadata": {
        "id": "view-in-github",
        "colab_type": "text"
      },
      "source": [
        "<a href=\"https://colab.research.google.com/github/AustinJamesWolff/Business-Projects/blob/main/Company_CRM_Unscrambling_Records.ipynb\" target=\"_parent\"><img src=\"https://colab.research.google.com/assets/colab-badge.svg\" alt=\"Open In Colab\"/></a>"
      ]
    },
    {
      "cell_type": "markdown",
      "metadata": {
        "id": "EYbMFFLgh3y5"
      },
      "source": [
        "### **The Problem:**\n",
        "#### When The Company (kept anonymous for privacy) began using the HighLevel CRM (\"HighLevel\"), data had to exported from the old CRM, AgileCRM (\"Agile\"), and imported into HighLevel. **Apparently, a few phone numbers and emails were switched between contacts during the import process for an unknown reason, and seemingly at random.**\n",
        "\n",
        "It's likely the unwanted \"phone number swap\" happened due to an unknown error with HighLevel, however, this bug was noticed by the sales team a few months after the import, and the HighLevel tech team only keeps logs of imports for up to one month. So now, they need help with the following:\n",
        "\n",
        "- Determining which contacts had their phone numbers or emails swapped (**bugContacts**),\n",
        "- Matching the phone numbers and emails to the correct contact,\n",
        "- Creating a new spreadsheet with only the corrected contacts (**cleanContacts**)\n",
        "- Importing the **cleanContacts** back into HighLevel in a way which overwrites only the wrong phone numbers, and does not change any other data already conencted with the contact,\n",
        "  - For example, importing the contacts with the correct phone numbers should simply overwrite wrong phone numbers, and nothing else such as name, email, notes, etc.\n",
        "\n",
        "**Side Note:**\n",
        "\n",
        "- If overwriting one record at a time was possible, the salesmen would have just corrected the data each time they found an error, but this bug was like a full web of contacts with their information all intertwined with each other. So you had to find out how many contacts were intertwined with each other, then you had to change the entire web of contacts at once rather than individually.\n",
        "\n",
        "<br>\n",
        "\n",
        "\n",
        "\n",
        "### **Brainstormed Possible Solution:**\n",
        "- Import both csv files of HighLevel and AgileCRM\n",
        "- Create a new dataframe containing only names and emails which match both datasets, **and** where the phone numbers do not match,\n",
        "- Columns should be as followed:\n",
        "  - highlevel_fullname\n",
        "  - highlevel_email\n",
        "  - highlevel_phone\n",
        "  - agile_fullname\n",
        "  - agile_email\n",
        "  - agile_phone\n",
        "- Records from Agile are correct, so overwrite *highlevel_phone* with *agile_phone*\n",
        "- Create new DataFrame, **cleanedHighLevel** with the following:\n",
        "  - highlevel_fullname\n",
        "  - highlevel_email\n",
        "  - highlevel_phone\n",
        "- Export new spreadsheet, **cleanedHighLevel.csv**\n",
        "- Import **cleanedHighLevel.csv** into HighLevel, and overwrite the phone numbers of all existing contacts in HighLevel with those in the spreadsheet.\n",
        "\n",
        "<br>\n",
        "\n",
        "\n",
        "### **How The Problem Was Actually Solved:**\n",
        "\n",
        "The notebook below details the exact steps taken to fix their CRM. Here is a brief summary:\n",
        "\n",
        "  - I imported the entire dataset from Highlevel and Agile (their new and old CRMs, respectively) and cleaned the data. Then I organized it in a way to easily comapre the two datasets with each each other.\n",
        " \n",
        "  - Then I merged both datasets into a dataframe with all contacts who shared the same email (a \"same-email\" list), but otherwise have different names and/or phone numbers on both CRMs. \n",
        "\n",
        "  - Then I created a 2nd dataframe with all contacts who shared the same phone number, but had different names and/or emails (a \"same-phone\" list). \n",
        "\n",
        "  - Most of the records in the \"same-phone\" list were different in Highlevel on purpose: the Highlevel CRM is constantly updated, while AgileCRM is no longer updated. This means that the majority of the data inconsistency turned out to simply be the salesmen updating contact info as they went along, and these records could be ommitted from our dataset-cleaning process.\n",
        "\n",
        "  - On the \"same-phone\" list (about 160 contacts), I noticed the bottom 24 seemed to match the 24 contacts in the \"same-email,\" just organized differently. Not only that, I noticed a pattern of data scrambling on the bottom 24 records of both lists (the pattern is too complicated to summarize here). \n",
        "\n",
        "  - There were a few outlier records which did not fit the pattern, making it seem much more complex than it really was. Once I manually scrubbed the outliers off the list, the pattern became much more straightforward.\n",
        "\n",
        "  - Thanks to this pattern, I was able to detect where holes of data where, which eventually led me to the exact records in the new CRM which were scrambled.  \n",
        "  \n",
        "  - I re-exported the correct data from the old CRM and simply overwrote the new CRM data on those 24 records. I then checked each one individually to double-check the work (this double-checking took less than 5 minutes). \n",
        "\n",
        "<br>\n",
        "\n",
        "\n",
        "### **Conclusion:**\n",
        "  \n",
        "  - The CRM is now fully functional. Before I worked on this, it was unknown how many records were swapped, and it couldn't be done individually. A full end-to-end solution had to be thought of and all data had to be overwriten at once to overcome the constraints of the software. Now the salesmen can happily focus on closing more leads rather than worrying if their leads' contact information is scrambled.\n",
        "\n",
        "<br>\n",
        "\n",
        "\n",
        "### **Tools Used:**\n",
        "\n",
        "  - Python, Google Colab, Pandas Library, DataPrep Library, Google Sheets, HighLevel CRM, AgileCRM\n",
        "\n",
        "\n"
      ]
    },
    {
      "cell_type": "code",
      "metadata": {
        "id": "4iNsGcSqhNaf"
      },
      "source": [
        "# An extra line will be added to each code block for readability\n",
        "from google.colab import drive\n",
        "drive.mount('/content/gdrive')\n"
      ],
      "execution_count": null,
      "outputs": []
    },
    {
      "cell_type": "code",
      "metadata": {
        "colab": {
          "resources": {
            "http://localhost:8080/nbextensions/google.colab/files.js": {
              "data": "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",
              "ok": true,
              "headers": [
                [
                  "content-type",
                  "application/javascript"
                ]
              ],
              "status": 200,
              "status_text": ""
            }
          },
          "base_uri": "https://localhost:8080/",
          "height": 55
        },
        "id": "a8J_b_2aMQMY",
        "outputId": "a51f7e52-fed2-47a9-c8d0-e268b9904e8e"
      },
      "source": [
        "from google.colab import files\n",
        "files.upload()\n"
      ],
      "execution_count": null,
      "outputs": [
        {
          "output_type": "display_data",
          "data": {
            "text/html": [
              "\n",
              "     <input type=\"file\" id=\"files-e3b8f239-ea77-468b-9307-a6a29b4bac3d\" name=\"files[]\" multiple disabled\n",
              "        style=\"border:none\" />\n",
              "     <output id=\"result-e3b8f239-ea77-468b-9307-a6a29b4bac3d\">\n",
              "      Upload widget is only available when the cell has been executed in the\n",
              "      current browser session. Please rerun this cell to enable.\n",
              "      </output>\n",
              "      <script src=\"/nbextensions/google.colab/files.js\"></script> "
            ],
            "text/plain": [
              "<IPython.core.display.HTML object>"
            ]
          },
          "metadata": {}
        },
        {
          "output_type": "execute_result",
          "data": {
            "text/plain": [
              "{}"
            ]
          },
          "metadata": {},
          "execution_count": 3
        }
      ]
    },
    {
      "cell_type": "code",
      "metadata": {
        "id": "SR3Q6fn0PM_n"
      },
      "source": [
        "import pandas as pd\n",
        "\n",
        "# Import both csv files of HighLevel and AgileCRM\n",
        "od_highlevel = pd.read_csv('/content/drive/MyDrive/Data Science Projects/Company_CRM_Dataset_Comparison/oldHighlevel.csv', dtype = str)\n",
        "old_agile = pd.read_csv('/content/drive/MyDrive/Data Science Projects/Company_CRM_Dataset_Comparison/oldAgile.csv', dtype = str)\n"
      ],
      "execution_count": 74,
      "outputs": []
    },
    {
      "cell_type": "code",
      "metadata": {
        "id": "0X-lljVIQ6kZ"
      },
      "source": [
        "# Drop columns in old_highlevel which aren't name, phone, or email\n",
        "old_highlevel.drop([\"Index\",\"Business Name\",\"Created\",\"Last Activity\",\"Tags\",\"Unnamed: 9\"], axis=1, inplace=True)\n"
      ],
      "execution_count": null,
      "outputs": []
    },
    {
      "cell_type": "code",
      "metadata": {
        "colab": {
          "base_uri": "https://localhost:8080/",
          "height": 204
        },
        "id": "al-NfgUDS-U3",
        "outputId": "9edff6d3-dbd1-4a8b-cb81-7ebd9fc0ba13"
      },
      "source": [
        "# Test dropped columns\n",
        "old_highlevel.head()\n"
      ],
      "execution_count": null,
      "outputs": [
        {
          "output_type": "execute_result",
          "data": {
            "text/html": [
              "<div>\n",
              "<style scoped>\n",
              "    .dataframe tbody tr th:only-of-type {\n",
              "        vertical-align: middle;\n",
              "    }\n",
              "\n",
              "    .dataframe tbody tr th {\n",
              "        vertical-align: top;\n",
              "    }\n",
              "\n",
              "    .dataframe thead th {\n",
              "        text-align: right;\n",
              "    }\n",
              "</style>\n",
              "<table border=\"1\" class=\"dataframe\">\n",
              "  <thead>\n",
              "    <tr style=\"text-align: right;\">\n",
              "      <th></th>\n",
              "      <th>First Name</th>\n",
              "      <th>Last Name</th>\n",
              "      <th>Phone</th>\n",
              "      <th>Email</th>\n",
              "    </tr>\n",
              "  </thead>\n",
              "  <tbody>\n",
              "    <tr>\n",
              "      <th>0</th>\n",
              "      <td>Ruben</td>\n",
              "      <td>Avalos</td>\n",
              "      <td>15097781007</td>\n",
              "      <td>rubenavalos1981@gmail.com</td>\n",
              "    </tr>\n",
              "    <tr>\n",
              "      <th>1</th>\n",
              "      <td>Frank</td>\n",
              "      <td>Cotton</td>\n",
              "      <td>13233823603</td>\n",
              "      <td>fcottonjr@gmail.com</td>\n",
              "    </tr>\n",
              "    <tr>\n",
              "      <th>2</th>\n",
              "      <td>Erna</td>\n",
              "      <td>Bright</td>\n",
              "      <td>12523399048</td>\n",
              "      <td>ernabrightjr@embarqmail.com</td>\n",
              "    </tr>\n",
              "    <tr>\n",
              "      <th>3</th>\n",
              "      <td>David</td>\n",
              "      <td>Hunt</td>\n",
              "      <td>1617448792128</td>\n",
              "      <td>djhunt@bigpond.net.au</td>\n",
              "    </tr>\n",
              "    <tr>\n",
              "      <th>4</th>\n",
              "      <td>Ghl</td>\n",
              "      <td>NaN</td>\n",
              "      <td>NaN</td>\n",
              "      <td>dipesh@istesting.app</td>\n",
              "    </tr>\n",
              "  </tbody>\n",
              "</table>\n",
              "</div>"
            ],
            "text/plain": [
              "  First Name Last Name          Phone                        Email\n",
              "0      Ruben    Avalos    15097781007    rubenavalos1981@gmail.com\n",
              "1      Frank    Cotton    13233823603          fcottonjr@gmail.com\n",
              "2       Erna    Bright    12523399048  ernabrightjr@embarqmail.com\n",
              "3      David      Hunt  1617448792128        djhunt@bigpond.net.au\n",
              "4        Ghl       NaN            NaN         dipesh@istesting.app"
            ]
          },
          "metadata": {},
          "execution_count": 31
        }
      ]
    },
    {
      "cell_type": "code",
      "metadata": {
        "id": "14wxS3ApWsc0"
      },
      "source": [
        "# Rename old_agile columns to match old_highlevel\n",
        "old_agile.rename(columns={\"Email(default)\":\"Email\",\"Phone(default)\":\"Phone\"}, inplace=True)\n"
      ],
      "execution_count": null,
      "outputs": []
    },
    {
      "cell_type": "code",
      "metadata": {
        "id": "oofMKqTAGHlf"
      },
      "source": [
        "# Combine all phone columns in old_agile (the CRM had multiple places to input phone numbers)\n",
        "old_agile['Phone'].fillna(old_agile['Phone(Work)'], inplace=True)\n",
        "old_agile['Phone'].fillna(old_agile['Phone(Mobile)'], inplace=True)\n"
      ],
      "execution_count": null,
      "outputs": []
    },
    {
      "cell_type": "code",
      "metadata": {
        "colab": {
          "base_uri": "https://localhost:8080/",
          "height": 204
        },
        "id": "V_zIeMZTTTZq",
        "outputId": "319f05fc-a9b9-4681-cd2c-5968adceecd2"
      },
      "source": [
        "# Test dropped columns\n",
        "old_agile = old_agile[[\"First Name\",\"Last Name\",\"Phone\",\"Email\"]]\n",
        "old_agile.head()\n"
      ],
      "execution_count": null,
      "outputs": [
        {
          "output_type": "execute_result",
          "data": {
            "text/html": [
              "<div>\n",
              "<style scoped>\n",
              "    .dataframe tbody tr th:only-of-type {\n",
              "        vertical-align: middle;\n",
              "    }\n",
              "\n",
              "    .dataframe tbody tr th {\n",
              "        vertical-align: top;\n",
              "    }\n",
              "\n",
              "    .dataframe thead th {\n",
              "        text-align: right;\n",
              "    }\n",
              "</style>\n",
              "<table border=\"1\" class=\"dataframe\">\n",
              "  <thead>\n",
              "    <tr style=\"text-align: right;\">\n",
              "      <th></th>\n",
              "      <th>First Name</th>\n",
              "      <th>Last Name</th>\n",
              "      <th>Phone</th>\n",
              "      <th>Email</th>\n",
              "    </tr>\n",
              "  </thead>\n",
              "  <tbody>\n",
              "    <tr>\n",
              "      <th>0</th>\n",
              "      <td>David</td>\n",
              "      <td>Cassis</td>\n",
              "      <td>+1818-391-4975</td>\n",
              "      <td>dollarkingdave@gmail.com</td>\n",
              "    </tr>\n",
              "    <tr>\n",
              "      <th>1</th>\n",
              "      <td>Henry</td>\n",
              "      <td>Tof</td>\n",
              "      <td>83146397116</td>\n",
              "      <td>ivanovnaang@gmail.com</td>\n",
              "    </tr>\n",
              "    <tr>\n",
              "      <th>2</th>\n",
              "      <td>Travis</td>\n",
              "      <td>Forsey</td>\n",
              "      <td>+1201-379-4216</td>\n",
              "      <td>tdors8719@gmail.com</td>\n",
              "    </tr>\n",
              "    <tr>\n",
              "      <th>3</th>\n",
              "      <td>Michael</td>\n",
              "      <td>Reppucci</td>\n",
              "      <td>310-500-0000</td>\n",
              "      <td>NaN</td>\n",
              "    </tr>\n",
              "    <tr>\n",
              "      <th>4</th>\n",
              "      <td>Bruce</td>\n",
              "      <td>Wilson</td>\n",
              "      <td>+19496904760</td>\n",
              "      <td>brucescvn@gmail.com</td>\n",
              "    </tr>\n",
              "  </tbody>\n",
              "</table>\n",
              "</div>"
            ],
            "text/plain": [
              "  First Name Last Name           Phone                     Email\n",
              "0      David    Cassis  +1818-391-4975  dollarkingdave@gmail.com\n",
              "1      Henry       Tof     83146397116     ivanovnaang@gmail.com\n",
              "2     Travis    Forsey  +1201-379-4216       tdors8719@gmail.com\n",
              "3    Michael  Reppucci    310-500-0000                       NaN\n",
              "4      Bruce    Wilson    +19496904760       brucescvn@gmail.com"
            ]
          },
          "metadata": {},
          "execution_count": 34
        }
      ]
    },
    {
      "cell_type": "code",
      "metadata": {
        "id": "B1kevgeARWpb"
      },
      "source": [
        "# Columns in old_highlevel should be renamed as followed:\n",
        "# highlevel_firstname\n",
        "# highlevel_lastname\n",
        "# highlevel_email\n",
        "# highlevel_phone\n",
        "old_highlevel = old_highlevel.rename(\n",
        "    columns={\n",
        "        \"First Name\":\"highlevel_firstname\",\n",
        "        \"Last Name\":\"highlevel_lastname\",\n",
        "        \"Phone\":\"highlevel_phone\",\n",
        "        \"Email\":\"highlevel_email\"\n",
        "    }\n",
        ")\n"
      ],
      "execution_count": null,
      "outputs": []
    },
    {
      "cell_type": "code",
      "metadata": {
        "colab": {
          "base_uri": "https://localhost:8080/",
          "height": 204
        },
        "id": "0-bffjr6YUaH",
        "outputId": "c78632d2-a5d7-4043-c7e3-2e4ba6dfd1a0"
      },
      "source": [
        "# Test\n",
        "old_highlevel.head()\n"
      ],
      "execution_count": null,
      "outputs": [
        {
          "output_type": "execute_result",
          "data": {
            "text/html": [
              "<div>\n",
              "<style scoped>\n",
              "    .dataframe tbody tr th:only-of-type {\n",
              "        vertical-align: middle;\n",
              "    }\n",
              "\n",
              "    .dataframe tbody tr th {\n",
              "        vertical-align: top;\n",
              "    }\n",
              "\n",
              "    .dataframe thead th {\n",
              "        text-align: right;\n",
              "    }\n",
              "</style>\n",
              "<table border=\"1\" class=\"dataframe\">\n",
              "  <thead>\n",
              "    <tr style=\"text-align: right;\">\n",
              "      <th></th>\n",
              "      <th>highlevel_firstname</th>\n",
              "      <th>highlevel_lastname</th>\n",
              "      <th>highlevel_phone</th>\n",
              "      <th>highlevel_email</th>\n",
              "    </tr>\n",
              "  </thead>\n",
              "  <tbody>\n",
              "    <tr>\n",
              "      <th>0</th>\n",
              "      <td>Ruben</td>\n",
              "      <td>Avalos</td>\n",
              "      <td>15097781007</td>\n",
              "      <td>rubenavalos1981@gmail.com</td>\n",
              "    </tr>\n",
              "    <tr>\n",
              "      <th>1</th>\n",
              "      <td>Frank</td>\n",
              "      <td>Cotton</td>\n",
              "      <td>13233823603</td>\n",
              "      <td>fcottonjr@gmail.com</td>\n",
              "    </tr>\n",
              "    <tr>\n",
              "      <th>2</th>\n",
              "      <td>Erna</td>\n",
              "      <td>Bright</td>\n",
              "      <td>12523399048</td>\n",
              "      <td>ernabrightjr@embarqmail.com</td>\n",
              "    </tr>\n",
              "    <tr>\n",
              "      <th>3</th>\n",
              "      <td>David</td>\n",
              "      <td>Hunt</td>\n",
              "      <td>1617448792128</td>\n",
              "      <td>djhunt@bigpond.net.au</td>\n",
              "    </tr>\n",
              "    <tr>\n",
              "      <th>4</th>\n",
              "      <td>Ghl</td>\n",
              "      <td>NaN</td>\n",
              "      <td>NaN</td>\n",
              "      <td>dipesh@istesting.app</td>\n",
              "    </tr>\n",
              "  </tbody>\n",
              "</table>\n",
              "</div>"
            ],
            "text/plain": [
              "  highlevel_firstname  ...              highlevel_email\n",
              "0               Ruben  ...    rubenavalos1981@gmail.com\n",
              "1               Frank  ...          fcottonjr@gmail.com\n",
              "2                Erna  ...  ernabrightjr@embarqmail.com\n",
              "3               David  ...        djhunt@bigpond.net.au\n",
              "4                 Ghl  ...         dipesh@istesting.app\n",
              "\n",
              "[5 rows x 4 columns]"
            ]
          },
          "metadata": {},
          "execution_count": 36
        }
      ]
    },
    {
      "cell_type": "code",
      "metadata": {
        "id": "IC-ZacUaRQtf"
      },
      "source": [
        "# Columns in old_agile should be renamed as followed:\n",
        "# agile_firstname\n",
        "# agile_lastname\n",
        "# agile_email\n",
        "# agile_phone\n",
        "old_agile = old_agile.rename(\n",
        "    columns={\n",
        "        \"First Name\":\"agile_firstname\",\n",
        "        \"Last Name\":\"agile_lastname\",\n",
        "        \"Phone\":\"agile_phone\",\n",
        "        \"Email\":\"agile_email\"\n",
        "    }\n",
        ")\n"
      ],
      "execution_count": null,
      "outputs": []
    },
    {
      "cell_type": "code",
      "metadata": {
        "colab": {
          "base_uri": "https://localhost:8080/",
          "height": 204
        },
        "id": "m6hSfgYtYaWL",
        "outputId": "2029873b-df20-449d-e751-3b34782749ba"
      },
      "source": [
        "# Test\n",
        "old_agile.head()"
      ],
      "execution_count": null,
      "outputs": [
        {
          "output_type": "execute_result",
          "data": {
            "text/html": [
              "<div>\n",
              "<style scoped>\n",
              "    .dataframe tbody tr th:only-of-type {\n",
              "        vertical-align: middle;\n",
              "    }\n",
              "\n",
              "    .dataframe tbody tr th {\n",
              "        vertical-align: top;\n",
              "    }\n",
              "\n",
              "    .dataframe thead th {\n",
              "        text-align: right;\n",
              "    }\n",
              "</style>\n",
              "<table border=\"1\" class=\"dataframe\">\n",
              "  <thead>\n",
              "    <tr style=\"text-align: right;\">\n",
              "      <th></th>\n",
              "      <th>agile_firstname</th>\n",
              "      <th>agile_lastname</th>\n",
              "      <th>agile_phone</th>\n",
              "      <th>agile_email</th>\n",
              "    </tr>\n",
              "  </thead>\n",
              "  <tbody>\n",
              "    <tr>\n",
              "      <th>0</th>\n",
              "      <td>David</td>\n",
              "      <td>Cassis</td>\n",
              "      <td>+1818-391-4975</td>\n",
              "      <td>dollarkingdave@gmail.com</td>\n",
              "    </tr>\n",
              "    <tr>\n",
              "      <th>1</th>\n",
              "      <td>Henry</td>\n",
              "      <td>Tof</td>\n",
              "      <td>83146397116</td>\n",
              "      <td>ivanovnaang@gmail.com</td>\n",
              "    </tr>\n",
              "    <tr>\n",
              "      <th>2</th>\n",
              "      <td>Travis</td>\n",
              "      <td>Forsey</td>\n",
              "      <td>+1201-379-4216</td>\n",
              "      <td>tdors8719@gmail.com</td>\n",
              "    </tr>\n",
              "    <tr>\n",
              "      <th>3</th>\n",
              "      <td>Michael</td>\n",
              "      <td>Reppucci</td>\n",
              "      <td>310-500-0000</td>\n",
              "      <td>NaN</td>\n",
              "    </tr>\n",
              "    <tr>\n",
              "      <th>4</th>\n",
              "      <td>Bruce</td>\n",
              "      <td>Wilson</td>\n",
              "      <td>+19496904760</td>\n",
              "      <td>brucescvn@gmail.com</td>\n",
              "    </tr>\n",
              "  </tbody>\n",
              "</table>\n",
              "</div>"
            ],
            "text/plain": [
              "  agile_firstname agile_lastname     agile_phone               agile_email\n",
              "0           David         Cassis  +1818-391-4975  dollarkingdave@gmail.com\n",
              "1           Henry            Tof     83146397116     ivanovnaang@gmail.com\n",
              "2          Travis         Forsey  +1201-379-4216       tdors8719@gmail.com\n",
              "3         Michael       Reppucci    310-500-0000                       NaN\n",
              "4           Bruce         Wilson    +19496904760       brucescvn@gmail.com"
            ]
          },
          "metadata": {},
          "execution_count": 20
        }
      ]
    },
    {
      "cell_type": "code",
      "metadata": {
        "id": "veQIyqsHAuU8"
      },
      "source": [
        "# This is necessary to use the DataPrep library\n",
        "pip install -U dataprep\n"
      ],
      "execution_count": null,
      "outputs": []
    },
    {
      "cell_type": "code",
      "metadata": {
        "id": "dO2dZgtzb-C9"
      },
      "source": [
        "# Import DataPrep library to clean phone numbers\n",
        "from dataprep.clean import clean_phone\n"
      ],
      "execution_count": null,
      "outputs": []
    },
    {
      "cell_type": "code",
      "metadata": {
        "colab": {
          "base_uri": "https://localhost:8080/"
        },
        "id": "xrZtEoPGYdRn",
        "outputId": "26849011-8b1e-413b-ad61-b7e5ed171e61"
      },
      "source": [
        "# Format the phone numbers the same\n",
        "old_agile = clean_phone(old_agile, 'agile_phone', output_format='national', inplace=True)\n"
      ],
      "execution_count": null,
      "outputs": [
        {
          "output_type": "stream",
          "name": "stderr",
          "text": [
            "                                     "
          ]
        },
        {
          "output_type": "stream",
          "name": "stdout",
          "text": [
            "Phone Number Cleaning Report:\n",
            "\t8518 values cleaned (86.3%)\n",
            "\t520 values unable to be parsed (5.27%), set to NaN\n",
            "Result contains 8618 (87.32%) values in the correct format and 1252 null values (12.68%)\n"
          ]
        },
        {
          "output_type": "stream",
          "name": "stderr",
          "text": [
            "\r"
          ]
        }
      ]
    },
    {
      "cell_type": "code",
      "metadata": {
        "colab": {
          "base_uri": "https://localhost:8080/"
        },
        "id": "wDLacnEMy5A5",
        "outputId": "3dbe6740-bb9c-4ca3-c421-27c21142574c"
      },
      "source": [
        "# Format the phone numbers the same\n",
        "old_highlevel = clean_phone(old_highlevel, 'highlevel_phone', output_format='national', inplace=True)\n"
      ],
      "execution_count": null,
      "outputs": [
        {
          "output_type": "stream",
          "name": "stderr",
          "text": [
            "                                                                                                "
          ]
        },
        {
          "output_type": "stream",
          "name": "stdout",
          "text": [
            "Phone Number Cleaning Report:\n",
            "\t8510 values cleaned (88.83%)\n",
            "\t27 values unable to be parsed (0.28%), set to NaN\n",
            "Result contains 8510 (88.83%) values in the correct format and 1070 null values (11.17%)\n"
          ]
        },
        {
          "output_type": "stream",
          "name": "stderr",
          "text": [
            "\r"
          ]
        }
      ]
    },
    {
      "cell_type": "code",
      "metadata": {
        "id": "dzey0U_JQMZZ"
      },
      "source": [
        "# Remove all relevant (email and phone) NaN values\n",
        "old_highlevel = old_highlevel[old_highlevel['highlevel_phone_clean'].notna()]\n",
        "old_highlevel = old_highlevel[old_highlevel['highlevel_email'].notna()]\n",
        "old_agile = old_agile[old_agile['agile_phone_clean'].notna()]\n",
        "old_agile = old_agile[old_agile['agile_email'].notna()]\n"
      ],
      "execution_count": null,
      "outputs": []
    },
    {
      "cell_type": "code",
      "metadata": {
        "colab": {
          "base_uri": "https://localhost:8080/"
        },
        "id": "v7UXYjs6GpDg",
        "outputId": "5b8a5535-0a02-430e-c8ee-6adb6aa0c72d"
      },
      "source": [
        "# Check for relevant NaN values\n",
        "print(old_highlevel.isnull().sum())\n",
        "print(old_agile.isnull().sum())"
      ],
      "execution_count": null,
      "outputs": [
        {
          "output_type": "stream",
          "name": "stdout",
          "text": [
            "highlevel_firstname        0\n",
            "highlevel_lastname       537\n",
            "highlevel_email            0\n",
            "highlevel_phone_clean      0\n",
            "dtype: int64\n",
            "agile_firstname        1\n",
            "agile_lastname       431\n",
            "agile_email            0\n",
            "agile_phone_clean      0\n",
            "dtype: int64\n"
          ]
        }
      ]
    },
    {
      "cell_type": "code",
      "metadata": {
        "colab": {
          "base_uri": "https://localhost:8080/"
        },
        "id": "jqrVM4XaMlDT",
        "outputId": "b204958f-9461-4d4a-e5dd-85e6a10fc52d"
      },
      "source": [
        "# Easy viewing of both lists if you uncomment\n",
        "# old_highlevel.head()\n",
        "# old_agile.head()\n",
        "# old_agile.shape\n",
        "old_highlevel.shape\n"
      ],
      "execution_count": null,
      "outputs": [
        {
          "output_type": "execute_result",
          "data": {
            "text/plain": [
              "(8135, 4)"
            ]
          },
          "metadata": {},
          "execution_count": 43
        }
      ]
    },
    {
      "cell_type": "code",
      "metadata": {
        "id": "ovyli95zdgd7"
      },
      "source": [
        "# Check to see if email records in old_agile are in old_highlevel\n",
        "old_agile_matched_emails = old_agile[old_agile['agile_email'].isin(old_highlevel['highlevel_email'])]\n"
      ],
      "execution_count": null,
      "outputs": []
    },
    {
      "cell_type": "code",
      "metadata": {
        "colab": {
          "base_uri": "https://localhost:8080/"
        },
        "id": "5sz87Ch8jtrG",
        "outputId": "84c90d46-e092-45b1-882b-19cb4cafb782"
      },
      "source": [
        "# Test\n",
        "# old_agile_matched_emails.head()\n",
        "old_agile_matched_emails.shape\n"
      ],
      "execution_count": null,
      "outputs": [
        {
          "output_type": "execute_result",
          "data": {
            "text/plain": [
              "(6241, 4)"
            ]
          },
          "metadata": {},
          "execution_count": 45
        }
      ]
    },
    {
      "cell_type": "code",
      "metadata": {
        "id": "ojgnZJ1hBc6_"
      },
      "source": [
        "# New dataframe for only emails in HighLevel that are also in Agile\n",
        "old_highlevel_matched_emails = old_highlevel[old_highlevel['highlevel_email'].isin(old_agile_matched_emails['agile_email'])]\n"
      ],
      "execution_count": null,
      "outputs": []
    },
    {
      "cell_type": "code",
      "metadata": {
        "colab": {
          "base_uri": "https://localhost:8080/"
        },
        "id": "80EBO8tVCrBr",
        "outputId": "2bbaef13-b3c5-4e55-84e7-24e76c9a0c43"
      },
      "source": [
        "# Test\n",
        "old_highlevel_matched_emails.shape"
      ],
      "execution_count": null,
      "outputs": [
        {
          "output_type": "execute_result",
          "data": {
            "text/plain": [
              "(6286, 4)"
            ]
          },
          "metadata": {},
          "execution_count": 47
        }
      ]
    },
    {
      "cell_type": "code",
      "metadata": {
        "id": "ToFI8zxnK8_D"
      },
      "source": [
        "# Rename so they all have matching column names\n",
        "old_agile_matched_emails = old_agile_matched_emails.rename(\n",
        "    columns = {\n",
        "        \"agile_email\":\"EMAIL\"\n",
        "    }\n",
        ")\n"
      ],
      "execution_count": null,
      "outputs": []
    },
    {
      "cell_type": "code",
      "metadata": {
        "id": "K4yKC3K-LMo1"
      },
      "source": [
        "old_highlevel_matched_emails = old_highlevel_matched_emails.rename(\n",
        "    columns = {\n",
        "        \"highlevel_email\":\"EMAIL\"\n",
        "    }\n",
        ")\n"
      ],
      "execution_count": null,
      "outputs": []
    },
    {
      "cell_type": "code",
      "metadata": {
        "colab": {
          "base_uri": "https://localhost:8080/",
          "height": 204
        },
        "id": "A1P-mj2NLVGF",
        "outputId": "0cfa1283-b945-4e29-bbee-de6916ecf367"
      },
      "source": [
        "# Test\n",
        "old_agile_matched_emails.head()\n"
      ],
      "execution_count": null,
      "outputs": [
        {
          "output_type": "execute_result",
          "data": {
            "text/html": [
              "<div>\n",
              "<style scoped>\n",
              "    .dataframe tbody tr th:only-of-type {\n",
              "        vertical-align: middle;\n",
              "    }\n",
              "\n",
              "    .dataframe tbody tr th {\n",
              "        vertical-align: top;\n",
              "    }\n",
              "\n",
              "    .dataframe thead th {\n",
              "        text-align: right;\n",
              "    }\n",
              "</style>\n",
              "<table border=\"1\" class=\"dataframe\">\n",
              "  <thead>\n",
              "    <tr style=\"text-align: right;\">\n",
              "      <th></th>\n",
              "      <th>agile_firstname</th>\n",
              "      <th>agile_lastname</th>\n",
              "      <th>EMAIL</th>\n",
              "      <th>agile_phone_clean</th>\n",
              "    </tr>\n",
              "  </thead>\n",
              "  <tbody>\n",
              "    <tr>\n",
              "      <th>0</th>\n",
              "      <td>David</td>\n",
              "      <td>Cassis</td>\n",
              "      <td>dollarkingdave@gmail.com</td>\n",
              "      <td>(818) 391-4975</td>\n",
              "    </tr>\n",
              "    <tr>\n",
              "      <th>2</th>\n",
              "      <td>Travis</td>\n",
              "      <td>Forsey</td>\n",
              "      <td>tdors8719@gmail.com</td>\n",
              "      <td>(201) 379-4216</td>\n",
              "    </tr>\n",
              "    <tr>\n",
              "      <th>4</th>\n",
              "      <td>Bruce</td>\n",
              "      <td>Wilson</td>\n",
              "      <td>brucescvn@gmail.com</td>\n",
              "      <td>(949) 690-4760</td>\n",
              "    </tr>\n",
              "    <tr>\n",
              "      <th>5</th>\n",
              "      <td>Brandon</td>\n",
              "      <td>Cruz</td>\n",
              "      <td>brandoncruz769@yhaoo.com</td>\n",
              "      <td>(678) 824-3211</td>\n",
              "    </tr>\n",
              "    <tr>\n",
              "      <th>6</th>\n",
              "      <td>Gustavo</td>\n",
              "      <td>Reygadas</td>\n",
              "      <td>gus.reygadas@gmail.com</td>\n",
              "      <td>(626) 419-5070</td>\n",
              "    </tr>\n",
              "  </tbody>\n",
              "</table>\n",
              "</div>"
            ],
            "text/plain": [
              "  agile_firstname agile_lastname                     EMAIL agile_phone_clean\n",
              "0           David         Cassis  dollarkingdave@gmail.com    (818) 391-4975\n",
              "2          Travis         Forsey       tdors8719@gmail.com    (201) 379-4216\n",
              "4           Bruce         Wilson       brucescvn@gmail.com    (949) 690-4760\n",
              "5         Brandon           Cruz  brandoncruz769@yhaoo.com    (678) 824-3211\n",
              "6         Gustavo       Reygadas    gus.reygadas@gmail.com    (626) 419-5070"
            ]
          },
          "metadata": {},
          "execution_count": 50
        }
      ]
    },
    {
      "cell_type": "code",
      "metadata": {
        "id": "CqlKVomRFuL4"
      },
      "source": [
        "# Test inner_merge with a test dataframe variable\n",
        "test_EMAIL_dataframe = pd.merge(old_highlevel_matched_emails, old_agile_matched_emails, how=\"outer\", on=['EMAIL'])\n"
      ],
      "execution_count": null,
      "outputs": []
    },
    {
      "cell_type": "code",
      "metadata": {
        "id": "akLCHbiCa37s"
      },
      "source": [
        "# Drop duplicates\n",
        "test_EMAIL_dataframe = test_EMAIL_dataframe.drop_duplicates(keep=\"first\")\n"
      ],
      "execution_count": null,
      "outputs": []
    },
    {
      "cell_type": "code",
      "metadata": {
        "id": "WKRg_jq_LdY2"
      },
      "source": [
        "# Test views of the new DataFrame. Just uncomment.\n",
        "# test_EMAIL_dataframe.shape\n",
        "# test_EMAIL_dataframe.tail(50)\n",
        "# test_EMAIL_dataframe[6190:6250]\n"
      ],
      "execution_count": null,
      "outputs": []
    },
    {
      "cell_type": "code",
      "metadata": {
        "id": "dhkyYNMZbPuX"
      },
      "source": [
        "# Create a new Dataframe where only keep rows if ['highlevel_phone_clean'] != ['agile_phone_clean']\n",
        "different_phone_dataframe = test_EMAIL_dataframe[test_EMAIL_dataframe['highlevel_phone_clean'] != test_EMAIL_dataframe['agile_phone_clean']]\n"
      ],
      "execution_count": null,
      "outputs": []
    },
    {
      "cell_type": "code",
      "metadata": {
        "id": "U4aAhPocK4Ke"
      },
      "source": [
        "# This is to drop any \"outlier records\" we have ether already fixed or ruled out,\n",
        "# because time has passed and the Highlevel dataset is much more up to date\n",
        "\n",
        "# different_phone_dataframe = different_phone_dataframe[different_phone_dataframe['EMAIL'] != 'arenamike1950@gmail.com']\n",
        "# different_phone_dataframe = different_phone_dataframe[different_phone_dataframe['EMAIL'] != 'e.t.tiles@hotmail.com']\n",
        "# different_phone_dataframe = different_phone_dataframe[different_phone_dataframe['EMAIL'] != 'lmason1952@yahoo.com']\n",
        "# different_phone_dataframe = different_phone_dataframe[different_phone_dataframe['EMAIL'] != 'oscarmendoza1955@gmail.com']\n",
        "# different_phone_dataframe = different_phone_dataframe[different_phone_dataframe['EMAIL'] != 'austinwolff88@gmail.com']\n",
        "different_phone_dataframe = different_phone_dataframe[different_phone_dataframe['highlevel_lastname'].notna()]\n"
      ],
      "execution_count": null,
      "outputs": []
    },
    {
      "cell_type": "code",
      "metadata": {
        "colab": {
          "base_uri": "https://localhost:8080/",
          "height": 968
        },
        "id": "YyFbOBpvdZ5k",
        "outputId": "780a9ce2-246e-4619-9fc4-c0fa97ef0afd"
      },
      "source": [
        "# Test \n",
        "different_phone_dataframe\n",
        "# different_phone_dataframe.shape\n"
      ],
      "execution_count": null,
      "outputs": [
        {
          "output_type": "execute_result",
          "data": {
            "text/html": [
              "<div>\n",
              "<style scoped>\n",
              "    .dataframe tbody tr th:only-of-type {\n",
              "        vertical-align: middle;\n",
              "    }\n",
              "\n",
              "    .dataframe tbody tr th {\n",
              "        vertical-align: top;\n",
              "    }\n",
              "\n",
              "    .dataframe thead th {\n",
              "        text-align: right;\n",
              "    }\n",
              "</style>\n",
              "<table border=\"1\" class=\"dataframe\">\n",
              "  <thead>\n",
              "    <tr style=\"text-align: right;\">\n",
              "      <th></th>\n",
              "      <th>highlevel_firstname</th>\n",
              "      <th>highlevel_lastname</th>\n",
              "      <th>EMAIL</th>\n",
              "      <th>highlevel_phone_clean</th>\n",
              "      <th>agile_firstname</th>\n",
              "      <th>agile_lastname</th>\n",
              "      <th>agile_phone_clean</th>\n",
              "    </tr>\n",
              "  </thead>\n",
              "  <tbody>\n",
              "    <tr>\n",
              "      <th>268</th>\n",
              "      <td>Micheal</td>\n",
              "      <td>Arena</td>\n",
              "      <td>arenamike1950@gmail.com</td>\n",
              "      <td>(661) 486-3152</td>\n",
              "      <td>Micheal</td>\n",
              "      <td>Arena</td>\n",
              "      <td>(661) 486-4152</td>\n",
              "    </tr>\n",
              "    <tr>\n",
              "      <th>2148</th>\n",
              "      <td>Robert</td>\n",
              "      <td>Enciso</td>\n",
              "      <td>e.t.tiles@hotmail.com</td>\n",
              "      <td>(818) 472-5355</td>\n",
              "      <td>Robert</td>\n",
              "      <td>Enciso</td>\n",
              "      <td>(818) 365-2389</td>\n",
              "    </tr>\n",
              "    <tr>\n",
              "      <th>2832</th>\n",
              "      <td>Lee</td>\n",
              "      <td>Mason</td>\n",
              "      <td>lmason1952@yahoo.com</td>\n",
              "      <td>(323) 381-5799</td>\n",
              "      <td>Lee</td>\n",
              "      <td>Mason</td>\n",
              "      <td>(323) 998-2043</td>\n",
              "    </tr>\n",
              "    <tr>\n",
              "      <th>5978</th>\n",
              "      <td>Oscar</td>\n",
              "      <td>Millan</td>\n",
              "      <td>oscarmendoza1955@gmail.com</td>\n",
              "      <td>(818) 213-0287</td>\n",
              "      <td>Oscar</td>\n",
              "      <td>Millan</td>\n",
              "      <td>(818) 800-6032</td>\n",
              "    </tr>\n",
              "    <tr>\n",
              "      <th>6154</th>\n",
              "      <td>Testing</td>\n",
              "      <td>Wolff</td>\n",
              "      <td>austinwolff88@gmail.com</td>\n",
              "      <td>(818) 400-9130</td>\n",
              "      <td>TEST</td>\n",
              "      <td>Test</td>\n",
              "      <td>(818) 400-1930</td>\n",
              "    </tr>\n",
              "    <tr>\n",
              "      <th>6209</th>\n",
              "      <td>Angel</td>\n",
              "      <td>Basdeo</td>\n",
              "      <td>farwestair@gmail.com</td>\n",
              "      <td>(608) 807-9292</td>\n",
              "      <td>Jon</td>\n",
              "      <td>Hunsaker</td>\n",
              "      <td>(503) 507-4003</td>\n",
              "    </tr>\n",
              "    <tr>\n",
              "      <th>6210</th>\n",
              "      <td>Rebecca</td>\n",
              "      <td>Hunsaker</td>\n",
              "      <td>mexicoar2@hotmail.com</td>\n",
              "      <td>(323) 300-6023</td>\n",
              "      <td>Angel</td>\n",
              "      <td>Reynoso</td>\n",
              "      <td>(313) 812-5969</td>\n",
              "    </tr>\n",
              "    <tr>\n",
              "      <th>6212</th>\n",
              "      <td>Roman</td>\n",
              "      <td>Reynoso</td>\n",
              "      <td>rebecstar1@icloud.com</td>\n",
              "      <td>(323) 868-4928</td>\n",
              "      <td>Rebecca</td>\n",
              "      <td>Rininger</td>\n",
              "      <td>(240) 600-7644</td>\n",
              "    </tr>\n",
              "    <tr>\n",
              "      <th>6214</th>\n",
              "      <td>Jorge</td>\n",
              "      <td>Rininger</td>\n",
              "      <td>coloradolife97@gmail.com</td>\n",
              "      <td>(626) 945-7555</td>\n",
              "      <td>Roman</td>\n",
              "      <td>Mayers</td>\n",
              "      <td>(608) 807-9292</td>\n",
              "    </tr>\n",
              "    <tr>\n",
              "      <th>6216</th>\n",
              "      <td>Patrick</td>\n",
              "      <td>Mayers</td>\n",
              "      <td>jrramosusa@yahoo.com</td>\n",
              "      <td>(213) 840-9007</td>\n",
              "      <td>Jorge</td>\n",
              "      <td>Ramos</td>\n",
              "      <td>(323) 300-6023</td>\n",
              "    </tr>\n",
              "    <tr>\n",
              "      <th>6218</th>\n",
              "      <td>Martin</td>\n",
              "      <td>Ramos</td>\n",
              "      <td>chezzmusic87@hotmail.com</td>\n",
              "      <td>(951) 893-7686</td>\n",
              "      <td>Patrick</td>\n",
              "      <td>Monroe</td>\n",
              "      <td>(323) 868-4928</td>\n",
              "    </tr>\n",
              "    <tr>\n",
              "      <th>6220</th>\n",
              "      <td>Onofre</td>\n",
              "      <td>Monroe</td>\n",
              "      <td>martinhdz@verizon.net</td>\n",
              "      <td>(310) 743-2861</td>\n",
              "      <td>Martin</td>\n",
              "      <td>Hernandez</td>\n",
              "      <td>(626) 945-7555</td>\n",
              "    </tr>\n",
              "    <tr>\n",
              "      <th>6222</th>\n",
              "      <td>Marc</td>\n",
              "      <td>Hernandez</td>\n",
              "      <td>onofrehalili@gmail.com</td>\n",
              "      <td>(323) 674-7689</td>\n",
              "      <td>Onofre</td>\n",
              "      <td>Halili</td>\n",
              "      <td>(213) 840-9007</td>\n",
              "    </tr>\n",
              "    <tr>\n",
              "      <th>6224</th>\n",
              "      <td>Joaquin</td>\n",
              "      <td>Halili</td>\n",
              "      <td>idigitalcop@gmail.com</td>\n",
              "      <td>(714) 926-5181</td>\n",
              "      <td>Marc</td>\n",
              "      <td>Marty</td>\n",
              "      <td>(951) 893-7686</td>\n",
              "    </tr>\n",
              "    <tr>\n",
              "      <th>6226</th>\n",
              "      <td>Etiennne</td>\n",
              "      <td>Marty</td>\n",
              "      <td>cortezxpress@gmail.com</td>\n",
              "      <td>(818) 431-7347</td>\n",
              "      <td>Joaquin</td>\n",
              "      <td>Cortez</td>\n",
              "      <td>(310) 743-2861</td>\n",
              "    </tr>\n",
              "    <tr>\n",
              "      <th>6228</th>\n",
              "      <td>Tom</td>\n",
              "      <td>Cortez</td>\n",
              "      <td>enguepi@gmail.com</td>\n",
              "      <td>(702) 274-7609</td>\n",
              "      <td>Etiennne</td>\n",
              "      <td>Nguepi</td>\n",
              "      <td>(323) 674-7689</td>\n",
              "    </tr>\n",
              "    <tr>\n",
              "      <th>6230</th>\n",
              "      <td>Jamie</td>\n",
              "      <td>Nguepi</td>\n",
              "      <td>thomaspetersonucsd@gmail.com</td>\n",
              "      <td>(310) 650-7414</td>\n",
              "      <td>Tom</td>\n",
              "      <td>Peterson</td>\n",
              "      <td>(714) 926-5181</td>\n",
              "    </tr>\n",
              "    <tr>\n",
              "      <th>6232</th>\n",
              "      <td>Lauren</td>\n",
              "      <td>Peterson</td>\n",
              "      <td>jamiealeck06@gmail.com</td>\n",
              "      <td>(201) 259-6301</td>\n",
              "      <td>Jamie</td>\n",
              "      <td>Aleck</td>\n",
              "      <td>(818) 431-7347</td>\n",
              "    </tr>\n",
              "    <tr>\n",
              "      <th>6234</th>\n",
              "      <td>Max</td>\n",
              "      <td>Aleck</td>\n",
              "      <td>laurenmiles227@gmail.com</td>\n",
              "      <td>(512) 553-6759</td>\n",
              "      <td>Lauren</td>\n",
              "      <td>Miles</td>\n",
              "      <td>(702) 274-7609</td>\n",
              "    </tr>\n",
              "    <tr>\n",
              "      <th>6236</th>\n",
              "      <td>Paul</td>\n",
              "      <td>Miles</td>\n",
              "      <td>cantumax6@gmail.com</td>\n",
              "      <td>(805) 791-1667</td>\n",
              "      <td>Max</td>\n",
              "      <td>Cantu</td>\n",
              "      <td>(310) 650-7414</td>\n",
              "    </tr>\n",
              "    <tr>\n",
              "      <th>6238</th>\n",
              "      <td>Carlos</td>\n",
              "      <td>Cantu</td>\n",
              "      <td>prcmatt212@gmail.com</td>\n",
              "      <td>(714) 420-3744</td>\n",
              "      <td>Paul</td>\n",
              "      <td>Matthews</td>\n",
              "      <td>(201) 259-6301</td>\n",
              "    </tr>\n",
              "    <tr>\n",
              "      <th>6240</th>\n",
              "      <td>Ron</td>\n",
              "      <td>Matthews</td>\n",
              "      <td>carlos.pasculado@gmail.com</td>\n",
              "      <td>(424) 256-4429</td>\n",
              "      <td>Carlos</td>\n",
              "      <td>Pasculado</td>\n",
              "      <td>(512) 553-6759</td>\n",
              "    </tr>\n",
              "    <tr>\n",
              "      <th>6241</th>\n",
              "      <td>Christian</td>\n",
              "      <td>Pasculado</td>\n",
              "      <td>ron.vivi@yahoo.com</td>\n",
              "      <td>(818) 261-3830</td>\n",
              "      <td>Ron</td>\n",
              "      <td>Hypes</td>\n",
              "      <td>(805) 791-1667</td>\n",
              "    </tr>\n",
              "    <tr>\n",
              "      <th>6243</th>\n",
              "      <td>Damien</td>\n",
              "      <td>Zacarias ive</td>\n",
              "      <td>corvettebrobinson@gmail.com</td>\n",
              "      <td>(626) 712-0643</td>\n",
              "      <td>Corvette</td>\n",
              "      <td>Robinson</td>\n",
              "      <td>(424) 256-4429</td>\n",
              "    </tr>\n",
              "    <tr>\n",
              "      <th>6246</th>\n",
              "      <td>Gabriel</td>\n",
              "      <td>Perillo</td>\n",
              "      <td>archangel41004@yahoo.com</td>\n",
              "      <td>(562) 656-6473</td>\n",
              "      <td>Gabriel</td>\n",
              "      <td>Marquez</td>\n",
              "      <td>(626) 712-0643</td>\n",
              "    </tr>\n",
              "    <tr>\n",
              "      <th>6248</th>\n",
              "      <td>Jesus</td>\n",
              "      <td>Wolff</td>\n",
              "      <td>moraleschato23@gmail.com</td>\n",
              "      <td>(424) 413-9449</td>\n",
              "      <td>Jesus</td>\n",
              "      <td>NaN</td>\n",
              "      <td>(565) 652-7416</td>\n",
              "    </tr>\n",
              "    <tr>\n",
              "      <th>6250</th>\n",
              "      <td>Ed</td>\n",
              "      <td>Marquez</td>\n",
              "      <td>ecg1109@gmail.com</td>\n",
              "      <td>(949) 292-3343</td>\n",
              "      <td>Ed</td>\n",
              "      <td>Gonzales</td>\n",
              "      <td>(562) 656-6473</td>\n",
              "    </tr>\n",
              "    <tr>\n",
              "      <th>6252</th>\n",
              "      <td>Steve</td>\n",
              "      <td>Gonzales</td>\n",
              "      <td>lexi4now68@gmail.com</td>\n",
              "      <td>(908) 670-6120</td>\n",
              "      <td>Steve</td>\n",
              "      <td>Newberry</td>\n",
              "      <td>(424) 413-9449</td>\n",
              "    </tr>\n",
              "    <tr>\n",
              "      <th>6292</th>\n",
              "      <td>Jon</td>\n",
              "      <td>Basdeo</td>\n",
              "      <td>caleb011@live.com</td>\n",
              "      <td>(240) 600-7644</td>\n",
              "      <td>Paul</td>\n",
              "      <td>Basdeo</td>\n",
              "      <td>(917) 459-5143</td>\n",
              "    </tr>\n",
              "  </tbody>\n",
              "</table>\n",
              "</div>"
            ],
            "text/plain": [
              "     highlevel_firstname highlevel_lastname  ... agile_lastname agile_phone_clean\n",
              "268              Micheal              Arena  ...          Arena    (661) 486-4152\n",
              "2148              Robert             Enciso  ...        Enciso     (818) 365-2389\n",
              "2832                 Lee              Mason  ...          Mason    (323) 998-2043\n",
              "5978               Oscar             Millan  ...         Millan    (818) 800-6032\n",
              "6154             Testing              Wolff  ...           Test    (818) 400-1930\n",
              "6209               Angel             Basdeo  ...       Hunsaker    (503) 507-4003\n",
              "6210             Rebecca           Hunsaker  ...        Reynoso    (313) 812-5969\n",
              "6212               Roman            Reynoso  ...       Rininger    (240) 600-7644\n",
              "6214               Jorge           Rininger  ...         Mayers    (608) 807-9292\n",
              "6216             Patrick             Mayers  ...          Ramos    (323) 300-6023\n",
              "6218              Martin              Ramos  ...         Monroe    (323) 868-4928\n",
              "6220              Onofre             Monroe  ...      Hernandez    (626) 945-7555\n",
              "6222                Marc          Hernandez  ...         Halili    (213) 840-9007\n",
              "6224             Joaquin             Halili  ...          Marty    (951) 893-7686\n",
              "6226            Etiennne              Marty  ...         Cortez    (310) 743-2861\n",
              "6228                 Tom             Cortez  ...         Nguepi    (323) 674-7689\n",
              "6230               Jamie             Nguepi  ...       Peterson    (714) 926-5181\n",
              "6232              Lauren           Peterson  ...          Aleck    (818) 431-7347\n",
              "6234                 Max              Aleck  ...          Miles    (702) 274-7609\n",
              "6236                Paul              Miles  ...          Cantu    (310) 650-7414\n",
              "6238              Carlos              Cantu  ...       Matthews    (201) 259-6301\n",
              "6240                 Ron           Matthews  ...      Pasculado    (512) 553-6759\n",
              "6241           Christian          Pasculado  ...          Hypes    (805) 791-1667\n",
              "6243              Damien       Zacarias ive  ...       Robinson    (424) 256-4429\n",
              "6246             Gabriel            Perillo  ...        Marquez    (626) 712-0643\n",
              "6248               Jesus              Wolff  ...            NaN    (565) 652-7416\n",
              "6250                  Ed            Marquez  ...       Gonzales    (562) 656-6473\n",
              "6252               Steve           Gonzales  ...       Newberry    (424) 413-9449\n",
              "6292                 Jon             Basdeo  ...         Basdeo    (917) 459-5143\n",
              "\n",
              "[29 rows x 7 columns]"
            ]
          },
          "metadata": {},
          "execution_count": 55
        }
      ]
    },
    {
      "cell_type": "markdown",
      "metadata": {
        "id": "UKmRbTHM2ymL"
      },
      "source": [
        "We have just created our \"email-list,\" meaning a merging of the to CRMs based on contact email, but only for contacts whose phone numbers do not match each other. \n",
        "\n",
        "We will now do the same below, but this time, creating a \"phone-list,\" meaning a merging of lists based on contact phone numbers, but only for contacts whose emails do not match the original."
      ]
    },
    {
      "cell_type": "code",
      "metadata": {
        "id": "5YfW12OSeLl4"
      },
      "source": [
        "# Create a new Dataframe for all rows that match phone numbers\n",
        "old_agile_matched_phone = old_agile[old_agile['agile_phone_clean'].isin(old_highlevel['highlevel_phone_clean'])]\n",
        "old_highlevel_matched_phone = old_highlevel[old_highlevel['highlevel_phone_clean'].isin(old_agile_matched_phone['agile_phone_clean'])]\n"
      ],
      "execution_count": null,
      "outputs": []
    },
    {
      "cell_type": "code",
      "metadata": {
        "colab": {
          "base_uri": "https://localhost:8080/",
          "height": 419
        },
        "id": "vF5UJrMEscKb",
        "outputId": "cb8de2d9-3cd8-4253-caa9-fdb5d3581e30"
      },
      "source": [
        "# Test\n",
        "old_agile_matched_phone\n",
        "# old_highlevel_matched_phone"
      ],
      "execution_count": null,
      "outputs": [
        {
          "output_type": "execute_result",
          "data": {
            "text/html": [
              "<div>\n",
              "<style scoped>\n",
              "    .dataframe tbody tr th:only-of-type {\n",
              "        vertical-align: middle;\n",
              "    }\n",
              "\n",
              "    .dataframe tbody tr th {\n",
              "        vertical-align: top;\n",
              "    }\n",
              "\n",
              "    .dataframe thead th {\n",
              "        text-align: right;\n",
              "    }\n",
              "</style>\n",
              "<table border=\"1\" class=\"dataframe\">\n",
              "  <thead>\n",
              "    <tr style=\"text-align: right;\">\n",
              "      <th></th>\n",
              "      <th>agile_firstname</th>\n",
              "      <th>agile_lastname</th>\n",
              "      <th>agile_email</th>\n",
              "      <th>agile_phone_clean</th>\n",
              "    </tr>\n",
              "  </thead>\n",
              "  <tbody>\n",
              "    <tr>\n",
              "      <th>0</th>\n",
              "      <td>David</td>\n",
              "      <td>Cassis</td>\n",
              "      <td>dollarkingdave@gmail.com</td>\n",
              "      <td>(818) 391-4975</td>\n",
              "    </tr>\n",
              "    <tr>\n",
              "      <th>2</th>\n",
              "      <td>Travis</td>\n",
              "      <td>Forsey</td>\n",
              "      <td>tdors8719@gmail.com</td>\n",
              "      <td>(201) 379-4216</td>\n",
              "    </tr>\n",
              "    <tr>\n",
              "      <th>4</th>\n",
              "      <td>Bruce</td>\n",
              "      <td>Wilson</td>\n",
              "      <td>brucescvn@gmail.com</td>\n",
              "      <td>(949) 690-4760</td>\n",
              "    </tr>\n",
              "    <tr>\n",
              "      <th>5</th>\n",
              "      <td>Brandon</td>\n",
              "      <td>Cruz</td>\n",
              "      <td>brandoncruz769@yhaoo.com</td>\n",
              "      <td>(678) 824-3211</td>\n",
              "    </tr>\n",
              "    <tr>\n",
              "      <th>6</th>\n",
              "      <td>Gustavo</td>\n",
              "      <td>Reygadas</td>\n",
              "      <td>gus.reygadas@gmail.com</td>\n",
              "      <td>(626) 419-5070</td>\n",
              "    </tr>\n",
              "    <tr>\n",
              "      <th>...</th>\n",
              "      <td>...</td>\n",
              "      <td>...</td>\n",
              "      <td>...</td>\n",
              "      <td>...</td>\n",
              "    </tr>\n",
              "    <tr>\n",
              "      <th>9863</th>\n",
              "      <td>Joe</td>\n",
              "      <td>Riehm</td>\n",
              "      <td>riehmjoe@yahoo.com</td>\n",
              "      <td>(818) 357-0533</td>\n",
              "    </tr>\n",
              "    <tr>\n",
              "      <th>9864</th>\n",
              "      <td>Austin</td>\n",
              "      <td>Wolff</td>\n",
              "      <td>austin+080620-1@thenovuscenter.com</td>\n",
              "      <td>(818) 400-9130</td>\n",
              "    </tr>\n",
              "    <tr>\n",
              "      <th>9867</th>\n",
              "      <td>Jorge</td>\n",
              "      <td>Ramos</td>\n",
              "      <td>jrramosusa@yahoo.com</td>\n",
              "      <td>(323) 300-6023</td>\n",
              "    </tr>\n",
              "    <tr>\n",
              "      <th>9868</th>\n",
              "      <td>Greg</td>\n",
              "      <td>DeLong</td>\n",
              "      <td>gkdelo@gmail.com</td>\n",
              "      <td>(757) 232-7731</td>\n",
              "    </tr>\n",
              "    <tr>\n",
              "      <th>9869</th>\n",
              "      <td>Angelina</td>\n",
              "      <td>Nunez</td>\n",
              "      <td>avid9nunez@gmail.com</td>\n",
              "      <td>(424) 266-1692</td>\n",
              "    </tr>\n",
              "  </tbody>\n",
              "</table>\n",
              "<p>6368 rows × 4 columns</p>\n",
              "</div>"
            ],
            "text/plain": [
              "     agile_firstname  ... agile_phone_clean\n",
              "0              David  ...    (818) 391-4975\n",
              "2             Travis  ...    (201) 379-4216\n",
              "4              Bruce  ...    (949) 690-4760\n",
              "5            Brandon  ...    (678) 824-3211\n",
              "6            Gustavo  ...    (626) 419-5070\n",
              "...              ...  ...               ...\n",
              "9863             Joe  ...    (818) 357-0533\n",
              "9864          Austin  ...    (818) 400-9130\n",
              "9867           Jorge  ...    (323) 300-6023\n",
              "9868            Greg  ...    (757) 232-7731\n",
              "9869        Angelina  ...    (424) 266-1692\n",
              "\n",
              "[6368 rows x 4 columns]"
            ]
          },
          "metadata": {},
          "execution_count": 57
        }
      ]
    },
    {
      "cell_type": "code",
      "metadata": {
        "id": "1EudCRblsrt0"
      },
      "source": [
        "# Rename so they all have matching column names\n",
        "old_agile_matched_phone = old_agile_matched_phone.rename(\n",
        "    columns = {\n",
        "        \"agile_phone_clean\":\"PHONE\"\n",
        "    }\n",
        ")\n",
        "\n",
        "old_highlevel_matched_phone = old_highlevel_matched_phone.rename(\n",
        "   columns = {\n",
        "       \"highlevel_phone_clean\":\"PHONE\"\n",
        "   } \n",
        ")\n"
      ],
      "execution_count": null,
      "outputs": []
    },
    {
      "cell_type": "code",
      "metadata": {
        "id": "rM3pop0wtEai"
      },
      "source": [
        "# Merge them togehter in new dataframe\n",
        "test_phone_dataframe = pd.merge(old_highlevel_matched_phone, old_agile_matched_phone, how=\"outer\", on=['PHONE'])\n"
      ],
      "execution_count": null,
      "outputs": []
    },
    {
      "cell_type": "code",
      "metadata": {
        "id": "PVLxx9OBtOt-"
      },
      "source": [
        "# Drop duplicates\n",
        "test_phone_dataframe = test_phone_dataframe.drop_duplicates(keep=\"first\")\n"
      ],
      "execution_count": null,
      "outputs": []
    },
    {
      "cell_type": "code",
      "metadata": {
        "colab": {
          "base_uri": "https://localhost:8080/",
          "height": 419
        },
        "id": "QY8CnyAEtS0O",
        "outputId": "368a7c64-3153-4560-e1f1-02ddaa6aad98"
      },
      "source": [
        "# test\n",
        "test_phone_dataframe"
      ],
      "execution_count": null,
      "outputs": [
        {
          "output_type": "execute_result",
          "data": {
            "text/html": [
              "<div>\n",
              "<style scoped>\n",
              "    .dataframe tbody tr th:only-of-type {\n",
              "        vertical-align: middle;\n",
              "    }\n",
              "\n",
              "    .dataframe tbody tr th {\n",
              "        vertical-align: top;\n",
              "    }\n",
              "\n",
              "    .dataframe thead th {\n",
              "        text-align: right;\n",
              "    }\n",
              "</style>\n",
              "<table border=\"1\" class=\"dataframe\">\n",
              "  <thead>\n",
              "    <tr style=\"text-align: right;\">\n",
              "      <th></th>\n",
              "      <th>highlevel_firstname</th>\n",
              "      <th>highlevel_lastname</th>\n",
              "      <th>highlevel_email</th>\n",
              "      <th>PHONE</th>\n",
              "      <th>agile_firstname</th>\n",
              "      <th>agile_lastname</th>\n",
              "      <th>agile_email</th>\n",
              "    </tr>\n",
              "  </thead>\n",
              "  <tbody>\n",
              "    <tr>\n",
              "      <th>0</th>\n",
              "      <td>Ruben</td>\n",
              "      <td>Avalos</td>\n",
              "      <td>rubenavalos1981@gmail.com</td>\n",
              "      <td>(509) 778-1007</td>\n",
              "      <td>Ruben</td>\n",
              "      <td>Avalos</td>\n",
              "      <td>rubenavalos1981@gmail.com</td>\n",
              "    </tr>\n",
              "    <tr>\n",
              "      <th>1</th>\n",
              "      <td>Paris</td>\n",
              "      <td>Londi</td>\n",
              "      <td>prcoach248@gmail.com</td>\n",
              "      <td>(626) 389-7914</td>\n",
              "      <td>Paris</td>\n",
              "      <td>Londi</td>\n",
              "      <td>prcoach248@gmail.com</td>\n",
              "    </tr>\n",
              "    <tr>\n",
              "      <th>2</th>\n",
              "      <td>Albert</td>\n",
              "      <td>Melgar</td>\n",
              "      <td>albertomelgar12@yayoo.com</td>\n",
              "      <td>(323) 217-9740</td>\n",
              "      <td>Albert</td>\n",
              "      <td>Melgar</td>\n",
              "      <td>albertomelgar12@yayoo.com</td>\n",
              "    </tr>\n",
              "    <tr>\n",
              "      <th>3</th>\n",
              "      <td>David</td>\n",
              "      <td>S.</td>\n",
              "      <td>wlanative@aol.com</td>\n",
              "      <td>(818) 478-6068</td>\n",
              "      <td>David</td>\n",
              "      <td>S.</td>\n",
              "      <td>wlanative@aol.com</td>\n",
              "    </tr>\n",
              "    <tr>\n",
              "      <th>4</th>\n",
              "      <td>Terry</td>\n",
              "      <td>Ally</td>\n",
              "      <td>terryally73@gmail.com</td>\n",
              "      <td>(310) 892-6120</td>\n",
              "      <td>Terry</td>\n",
              "      <td>Ally</td>\n",
              "      <td>terryally73@gmail.com</td>\n",
              "    </tr>\n",
              "    <tr>\n",
              "      <th>...</th>\n",
              "      <td>...</td>\n",
              "      <td>...</td>\n",
              "      <td>...</td>\n",
              "      <td>...</td>\n",
              "      <td>...</td>\n",
              "      <td>...</td>\n",
              "      <td>...</td>\n",
              "    </tr>\n",
              "    <tr>\n",
              "      <th>6417</th>\n",
              "      <td>Robert</td>\n",
              "      <td>Leduc</td>\n",
              "      <td>rleduc34@gmail.com</td>\n",
              "      <td>(323) 447-2844</td>\n",
              "      <td>Robert</td>\n",
              "      <td>Leduc</td>\n",
              "      <td>rleduc34@gmail.com</td>\n",
              "    </tr>\n",
              "    <tr>\n",
              "      <th>6420</th>\n",
              "      <td>Marc</td>\n",
              "      <td>Allen</td>\n",
              "      <td>frenchmen90631@gmail.com</td>\n",
              "      <td>(562) 414-9207</td>\n",
              "      <td>Marc</td>\n",
              "      <td>Allen</td>\n",
              "      <td>frenchmen90631@gmail.com</td>\n",
              "    </tr>\n",
              "    <tr>\n",
              "      <th>6422</th>\n",
              "      <td>Sam</td>\n",
              "      <td>Dabach</td>\n",
              "      <td>55dabach@gmail.com</td>\n",
              "      <td>(818) 943-7771</td>\n",
              "      <td>Sam</td>\n",
              "      <td>Dabach</td>\n",
              "      <td>55dabach@gmail.com</td>\n",
              "    </tr>\n",
              "    <tr>\n",
              "      <th>6424</th>\n",
              "      <td>Gabriel</td>\n",
              "      <td>Alvarado</td>\n",
              "      <td>aaalvaradoh@hotmail.com</td>\n",
              "      <td>(626) 873-5652</td>\n",
              "      <td>Victor Gabriel</td>\n",
              "      <td>Alvarado</td>\n",
              "      <td>aaalvaradoh@hotmail.com</td>\n",
              "    </tr>\n",
              "    <tr>\n",
              "      <th>6426</th>\n",
              "      <td>Jon</td>\n",
              "      <td>Basdeo</td>\n",
              "      <td>caleb011@live.com</td>\n",
              "      <td>(240) 600-7644</td>\n",
              "      <td>Rebecca</td>\n",
              "      <td>Rininger</td>\n",
              "      <td>rebecstar1@icloud.com</td>\n",
              "    </tr>\n",
              "  </tbody>\n",
              "</table>\n",
              "<p>6374 rows × 7 columns</p>\n",
              "</div>"
            ],
            "text/plain": [
              "     highlevel_firstname  ...                agile_email\n",
              "0                  Ruben  ...  rubenavalos1981@gmail.com\n",
              "1                  Paris  ...       prcoach248@gmail.com\n",
              "2                 Albert  ...  albertomelgar12@yayoo.com\n",
              "3                  David  ...          wlanative@aol.com\n",
              "4                  Terry  ...      terryally73@gmail.com\n",
              "...                  ...  ...                        ...\n",
              "6417              Robert  ...         rleduc34@gmail.com\n",
              "6420                Marc  ...   frenchmen90631@gmail.com\n",
              "6422                 Sam  ...         55dabach@gmail.com\n",
              "6424             Gabriel  ...    aaalvaradoh@hotmail.com\n",
              "6426                 Jon  ...      rebecstar1@icloud.com\n",
              "\n",
              "[6374 rows x 7 columns]"
            ]
          },
          "metadata": {},
          "execution_count": 61
        }
      ]
    },
    {
      "cell_type": "code",
      "metadata": {
        "id": "lwKxgIWWtrXL"
      },
      "source": [
        "# New dataframe if the rows have different emails but the same phone number\n",
        "different_email_dataframe = test_phone_dataframe[test_phone_dataframe['highlevel_email'] != test_phone_dataframe['agile_email']]\n"
      ],
      "execution_count": null,
      "outputs": []
    },
    {
      "cell_type": "code",
      "metadata": {
        "colab": {
          "base_uri": "https://localhost:8080/",
          "height": 419
        },
        "id": "wUjH8Scct_Zx",
        "outputId": "1d3c532a-d731-4047-bf40-53659390d4a6"
      },
      "source": [
        "#Test\n",
        "different_email_dataframe\n"
      ],
      "execution_count": null,
      "outputs": [
        {
          "output_type": "execute_result",
          "data": {
            "text/html": [
              "<div>\n",
              "<style scoped>\n",
              "    .dataframe tbody tr th:only-of-type {\n",
              "        vertical-align: middle;\n",
              "    }\n",
              "\n",
              "    .dataframe tbody tr th {\n",
              "        vertical-align: top;\n",
              "    }\n",
              "\n",
              "    .dataframe thead th {\n",
              "        text-align: right;\n",
              "    }\n",
              "</style>\n",
              "<table border=\"1\" class=\"dataframe\">\n",
              "  <thead>\n",
              "    <tr style=\"text-align: right;\">\n",
              "      <th></th>\n",
              "      <th>highlevel_firstname</th>\n",
              "      <th>highlevel_lastname</th>\n",
              "      <th>highlevel_email</th>\n",
              "      <th>PHONE</th>\n",
              "      <th>agile_firstname</th>\n",
              "      <th>agile_lastname</th>\n",
              "      <th>agile_email</th>\n",
              "    </tr>\n",
              "  </thead>\n",
              "  <tbody>\n",
              "    <tr>\n",
              "      <th>26</th>\n",
              "      <td>Joe</td>\n",
              "      <td>Cruz</td>\n",
              "      <td>joebcruz@gmail.com</td>\n",
              "      <td>(626) 701-6644</td>\n",
              "      <td>Joe</td>\n",
              "      <td>Cruz</td>\n",
              "      <td>joebcruz@gmsil.com</td>\n",
              "    </tr>\n",
              "    <tr>\n",
              "      <th>179</th>\n",
              "      <td>Nazmul</td>\n",
              "      <td>Kahn</td>\n",
              "      <td>kahn.nash@yahoo.com</td>\n",
              "      <td>(818) 281-7193</td>\n",
              "      <td>Nazmul</td>\n",
              "      <td>Kahn</td>\n",
              "      <td>nazmul.kahn@gmail.com</td>\n",
              "    </tr>\n",
              "    <tr>\n",
              "      <th>220</th>\n",
              "      <td>Jim</td>\n",
              "      <td>Torp</td>\n",
              "      <td>jumtorp07@gmail.com</td>\n",
              "      <td>(661) 510-4183</td>\n",
              "      <td>Jim</td>\n",
              "      <td>Torp</td>\n",
              "      <td>jimtorp07@gmail.com</td>\n",
              "    </tr>\n",
              "    <tr>\n",
              "      <th>242</th>\n",
              "      <td>May</td>\n",
              "      <td>Lin</td>\n",
              "      <td>mayl0105@yahoo.com</td>\n",
              "      <td>(626) 731-8398</td>\n",
              "      <td>May</td>\n",
              "      <td>Lin</td>\n",
              "      <td>mayl105@yahoo.com</td>\n",
              "    </tr>\n",
              "    <tr>\n",
              "      <th>243</th>\n",
              "      <td>Juliana</td>\n",
              "      <td>E</td>\n",
              "      <td>jencinas29@gmail.com</td>\n",
              "      <td>(555) 555-5555</td>\n",
              "      <td>Test</td>\n",
              "      <td>NaN</td>\n",
              "      <td>testing@test.com</td>\n",
              "    </tr>\n",
              "    <tr>\n",
              "      <th>...</th>\n",
              "      <td>...</td>\n",
              "      <td>...</td>\n",
              "      <td>...</td>\n",
              "      <td>...</td>\n",
              "      <td>...</td>\n",
              "      <td>...</td>\n",
              "      <td>...</td>\n",
              "    </tr>\n",
              "    <tr>\n",
              "      <th>6379</th>\n",
              "      <td>Jesus</td>\n",
              "      <td>Wolff</td>\n",
              "      <td>moraleschato23@gmail.com</td>\n",
              "      <td>(424) 413-9449</td>\n",
              "      <td>Steve</td>\n",
              "      <td>Newberry</td>\n",
              "      <td>lexi4now68@gmail.com</td>\n",
              "    </tr>\n",
              "    <tr>\n",
              "      <th>6381</th>\n",
              "      <td>Ed</td>\n",
              "      <td>Marquez</td>\n",
              "      <td>ecg1109@gmail.com</td>\n",
              "      <td>(949) 292-3343</td>\n",
              "      <td>Kevin</td>\n",
              "      <td>Mowry</td>\n",
              "      <td>kevinmowry@cox.net</td>\n",
              "    </tr>\n",
              "    <tr>\n",
              "      <th>6383</th>\n",
              "      <td>Steve</td>\n",
              "      <td>Gonzales</td>\n",
              "      <td>lexi4now68@gmail.com</td>\n",
              "      <td>(908) 670-6120</td>\n",
              "      <td>Drew</td>\n",
              "      <td>Brendli</td>\n",
              "      <td>drewbrendli@thenovuscenter.com</td>\n",
              "    </tr>\n",
              "    <tr>\n",
              "      <th>6404</th>\n",
              "      <td>Ulrich</td>\n",
              "      <td>Huegli</td>\n",
              "      <td>swisstravelchef@yahoo.com</td>\n",
              "      <td>(818) 970-4896</td>\n",
              "      <td>Ueli</td>\n",
              "      <td>Huegli</td>\n",
              "      <td>matterchef1950@yahoo.com</td>\n",
              "    </tr>\n",
              "    <tr>\n",
              "      <th>6426</th>\n",
              "      <td>Jon</td>\n",
              "      <td>Basdeo</td>\n",
              "      <td>caleb011@live.com</td>\n",
              "      <td>(240) 600-7644</td>\n",
              "      <td>Rebecca</td>\n",
              "      <td>Rininger</td>\n",
              "      <td>rebecstar1@icloud.com</td>\n",
              "    </tr>\n",
              "  </tbody>\n",
              "</table>\n",
              "<p>162 rows × 7 columns</p>\n",
              "</div>"
            ],
            "text/plain": [
              "     highlevel_firstname  ...                     agile_email\n",
              "26                   Joe  ...              joebcruz@gmsil.com\n",
              "179               Nazmul  ...           nazmul.kahn@gmail.com\n",
              "220                  Jim  ...             jimtorp07@gmail.com\n",
              "242                  May  ...               mayl105@yahoo.com\n",
              "243              Juliana  ...                testing@test.com\n",
              "...                  ...  ...                             ...\n",
              "6379               Jesus  ...            lexi4now68@gmail.com\n",
              "6381                  Ed  ...              kevinmowry@cox.net\n",
              "6383               Steve  ...  drewbrendli@thenovuscenter.com\n",
              "6404              Ulrich  ...        matterchef1950@yahoo.com\n",
              "6426                 Jon  ...           rebecstar1@icloud.com\n",
              "\n",
              "[162 rows x 7 columns]"
            ]
          },
          "metadata": {},
          "execution_count": 64
        }
      ]
    },
    {
      "cell_type": "code",
      "metadata": {
        "id": "Ew6g9C_XLA_3"
      },
      "source": [
        "# Export different_email_dataframe\n",
        "different_email_dataframe.to_csv('same_phone_different_email.csv')\n"
      ],
      "execution_count": null,
      "outputs": []
    },
    {
      "cell_type": "code",
      "metadata": {
        "id": "yWQQ_8y5OOMm"
      },
      "source": [
        "# Export different_phone_dataframe\n",
        "# Any spreadsheet application offers a quicker way for me to visual and parse data that isn't too big (and can be analyzed within a few minutes)\n",
        "# Luckily, after reviewing \"different_email_dataframe,\" there was only a count of 24 records that were scrambled with the discovered pattern.\n",
        "# The other 100+ records in that dataframe didn't match on purpose, as the Highlevel data is constantly updated while Agile's is not\n",
        "# Therefore, I will export different_phone_dataframe and see if the records here match the exact pattern and indexing as different_email_dataframe\n",
        "\n",
        "different_phone_dataframe.to_csv('same_email_different_phone.csv')\n"
      ],
      "execution_count": null,
      "outputs": []
    },
    {
      "cell_type": "markdown",
      "metadata": {
        "id": "0pCnNq9vQeU9"
      },
      "source": [
        "At this point, I uploaded the csv files into Google Sheets for me to quickly visualize and move around cells or rows based on the pattern that began to emerge after scrubbing outliers. Once the pattern was fully recognized, I was able to quickly group together the \"web of contacts\" in both CRMs. I tagged them 'reupload' in both programs, exported the original data from AgileCRM, and reuploaded it to overwrite the data in Highlevel CRM. I double-checked each contact to ensure the problem was solved. Indeed it was.\n",
        "\n",
        "<br>\n",
        "\n",
        "**Austin Wolff**\n",
        "\n",
        "**9/2/21**"
      ]
    }
  ]
}
