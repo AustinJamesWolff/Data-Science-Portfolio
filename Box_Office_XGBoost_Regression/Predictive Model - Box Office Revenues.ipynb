{
 "cells": [
  {
   "cell_type": "markdown",
   "id": "b7046b5f",
   "metadata": {},
   "source": [
    "# Predictive Model - Box Office Revenues\n",
    "\n",
    "The purpose of this notebook will be to import a tabular dataset, train a predictive model, and publish a web app (with a corresponding blog post) with visualizations to explain the model.\n",
    "\n",
    "Here are my guidelines:\n",
    "\n",
    "\n",
    "- I will explain the following: \n",
    "    - Why and how I chose my:\n",
    "        - target, \n",
    "        - metric, and \n",
    "        - baseline\n",
    "    - How I avoided data leakage,\n",
    "    - When and why the model is useful (or not)\n",
    "- I fit and evaluate a linear model for regression\n",
    "    - I also use hyperparameter tuning to improve the performance of the linear model\n",
    "    - (I will use Ridge regression as changing one parameter)\n",
    "- I fit and evaluate a random forest or gradient boosting model for regression\n",
    "    - I also use hyperparameter tuning to improve the performance of the tree-based model\n",
    "- Notebook is well organized with Markdown headings and comments\n",
    "    - I also can run all without errors\n",
    "- **I commit all code to Github**\n",
    "- I deploy an interactive web app using Plotly Dash on Heroku\n",
    "- I write a corresponding blog post (minimum 300 words) to have on Plotly and Medium\n",
    "    - I will report baseline score, validation scores from 2+ models, and test score from 1 selected model\n",
    "    \n",
    "    "
   ]
  },
  {
   "cell_type": "markdown",
   "id": "83f6c7f0",
   "metadata": {},
   "source": [
    "### Final Results:\n",
    "\n",
    "Baseline (Mean) R2 = -0.000994\n",
    "\n",
    "Ridge Regression R2 (Validation) = 0.595994\n",
    "\n",
    "Random Forest R2 (Validation) = 0.688077\n",
    "\n",
    "XGBoost R2 (Validation): 0.70057\n",
    "\n",
    "**Random Forest R2 (Test) = 0.681252**\n",
    "\n",
    "**XGBoost R2 (Test) = 0.713650**"
   ]
  },
  {
   "cell_type": "code",
   "execution_count": 201,
   "id": "42f88789",
   "metadata": {},
   "outputs": [],
   "source": [
    "%%capture\n",
    "!pip install category_encoders\n",
    "!pip install forestci\n",
    "!pip install duecredit"
   ]
  },
  {
   "cell_type": "code",
   "execution_count": 424,
   "id": "a7290f36",
   "metadata": {},
   "outputs": [],
   "source": [
    "# Import all libraries\n",
    "import pandas as pd\n",
    "import numpy as np\n",
    "import matplotlib.pyplot as plt\n",
    "import seaborn as sns\n",
    "import copy\n",
    "import re\n",
    "from datetime import datetime\n",
    "from sklearn.linear_model import LinearRegression, Ridge\n",
    "from sklearn.metrics import mean_absolute_error\n",
    "from sklearn.metrics import mean_absolute_percentage_error\n",
    "from sklearn.metrics import r2_score\n",
    "from sklearn.model_selection import train_test_split\n",
    "from sklearn.model_selection import cross_val_score\n",
    "from sklearn.model_selection import cross_validate\n",
    "from sklearn.model_selection import GridSearchCV, RandomizedSearchCV\n",
    "from sklearn.pipeline import make_pipeline\n",
    "from sklearn.tree import DecisionTreeClassifier\n",
    "from sklearn.ensemble import RandomForestRegressor\n",
    "from sklearn.dummy import DummyRegressor\n",
    "from sklearn.preprocessing import StandardScaler\n",
    "from sklearn.impute import SimpleImputer\n",
    "from category_encoders import OneHotEncoder, OrdinalEncoder\n",
    "import forestci as fci\n",
    "from xgboost import XGBRegressor\n"
   ]
  },
  {
   "cell_type": "markdown",
   "id": "17735a6c",
   "metadata": {},
   "source": [
    "## Import Dataset"
   ]
  },
  {
   "cell_type": "code",
   "execution_count": 425,
   "id": "b6d990a3",
   "metadata": {},
   "outputs": [
    {
     "data": {
      "text/html": [
       "<div>\n",
       "<style scoped>\n",
       "    .dataframe tbody tr th:only-of-type {\n",
       "        vertical-align: middle;\n",
       "    }\n",
       "\n",
       "    .dataframe tbody tr th {\n",
       "        vertical-align: top;\n",
       "    }\n",
       "\n",
       "    .dataframe thead th {\n",
       "        text-align: right;\n",
       "    }\n",
       "</style>\n",
       "<table border=\"1\" class=\"dataframe\">\n",
       "  <thead>\n",
       "    <tr style=\"text-align: right;\">\n",
       "      <th></th>\n",
       "      <th>titleId</th>\n",
       "      <th>title</th>\n",
       "      <th>rating</th>\n",
       "      <th>region</th>\n",
       "      <th>genre</th>\n",
       "      <th>released</th>\n",
       "      <th>year</th>\n",
       "      <th>month</th>\n",
       "      <th>day</th>\n",
       "      <th>score</th>\n",
       "      <th>director</th>\n",
       "      <th>writer</th>\n",
       "      <th>star</th>\n",
       "      <th>country</th>\n",
       "      <th>budget</th>\n",
       "      <th>gross</th>\n",
       "      <th>profit</th>\n",
       "      <th>company</th>\n",
       "      <th>runtime</th>\n",
       "      <th>category</th>\n",
       "      <th>nconst</th>\n",
       "      <th>primaryName</th>\n",
       "      <th>knownForTitlesList</th>\n",
       "      <th>topMovies</th>\n",
       "      <th>grossTopMovies</th>\n",
       "      <th>profitTopMovies</th>\n",
       "      <th>Avg_grossTopMovies</th>\n",
       "      <th>Avg_profitTopMovies</th>\n",
       "      <th>Total_Gross_Bankability</th>\n",
       "      <th>Total_Profit_Bankability</th>\n",
       "    </tr>\n",
       "  </thead>\n",
       "  <tbody>\n",
       "    <tr>\n",
       "      <th>0</th>\n",
       "      <td>tt0081505</td>\n",
       "      <td>The Shining</td>\n",
       "      <td>R</td>\n",
       "      <td>US</td>\n",
       "      <td>Drama</td>\n",
       "      <td>1980-06-13</td>\n",
       "      <td>1980</td>\n",
       "      <td>June</td>\n",
       "      <td>13.0</td>\n",
       "      <td>8.4</td>\n",
       "      <td>Stanley Kubrick</td>\n",
       "      <td>Stephen King</td>\n",
       "      <td>Jack Nicholson</td>\n",
       "      <td>United Kingdom</td>\n",
       "      <td>19000000.0</td>\n",
       "      <td>46998772.0</td>\n",
       "      <td>27998772.0</td>\n",
       "      <td>Warner Bros.</td>\n",
       "      <td>146.0</td>\n",
       "      <td>actor</td>\n",
       "      <td>nm0000197</td>\n",
       "      <td>Jack Nicholson</td>\n",
       "      <td>tt0407887</td>\n",
       "      <td>The Departed</td>\n",
       "      <td>291465373.0</td>\n",
       "      <td>201465373.0</td>\n",
       "      <td>3.028217e+08</td>\n",
       "      <td>2.328217e+08</td>\n",
       "      <td>4.650644e+08</td>\n",
       "      <td>3.300644e+08</td>\n",
       "    </tr>\n",
       "    <tr>\n",
       "      <th>1</th>\n",
       "      <td>tt0080453</td>\n",
       "      <td>The Blue Lagoon</td>\n",
       "      <td>R</td>\n",
       "      <td>US</td>\n",
       "      <td>Adventure</td>\n",
       "      <td>1980-07-02</td>\n",
       "      <td>1980</td>\n",
       "      <td>July</td>\n",
       "      <td>2.0</td>\n",
       "      <td>5.8</td>\n",
       "      <td>Randal Kleiser</td>\n",
       "      <td>Henry De Vere Stacpoole</td>\n",
       "      <td>Brooke Shields</td>\n",
       "      <td>United States</td>\n",
       "      <td>4500000.0</td>\n",
       "      <td>58853106.0</td>\n",
       "      <td>54353106.0</td>\n",
       "      <td>Columbia Pictures</td>\n",
       "      <td>104.0</td>\n",
       "      <td>actress</td>\n",
       "      <td>nm0000222</td>\n",
       "      <td>Brooke Shields</td>\n",
       "      <td>tt0080453</td>\n",
       "      <td>The Blue Lagoon</td>\n",
       "      <td>58853106.0</td>\n",
       "      <td>54353106.0</td>\n",
       "      <td>5.885311e+07</td>\n",
       "      <td>5.435311e+07</td>\n",
       "      <td>9.625673e+07</td>\n",
       "      <td>8.259007e+07</td>\n",
       "    </tr>\n",
       "    <tr>\n",
       "      <th>2</th>\n",
       "      <td>tt0080684</td>\n",
       "      <td>Star Wars: Episode V - The Empire Strikes Back</td>\n",
       "      <td>PG</td>\n",
       "      <td>US</td>\n",
       "      <td>Action</td>\n",
       "      <td>1980-06-20</td>\n",
       "      <td>1980</td>\n",
       "      <td>June</td>\n",
       "      <td>20.0</td>\n",
       "      <td>8.7</td>\n",
       "      <td>Irvin Kershner</td>\n",
       "      <td>Leigh Brackett</td>\n",
       "      <td>Mark Hamill</td>\n",
       "      <td>United States</td>\n",
       "      <td>18000000.0</td>\n",
       "      <td>538375067.0</td>\n",
       "      <td>520375067.0</td>\n",
       "      <td>Lucasfilm</td>\n",
       "      <td>124.0</td>\n",
       "      <td>actor</td>\n",
       "      <td>nm0000434</td>\n",
       "      <td>Mark Hamill</td>\n",
       "      <td>tt0086190</td>\n",
       "      <td>Star Wars: Episode VI - Return of the Jedi</td>\n",
       "      <td>475106177.0</td>\n",
       "      <td>442606177.0</td>\n",
       "      <td>7.820600e+08</td>\n",
       "      <td>6.595600e+08</td>\n",
       "      <td>9.515799e+08</td>\n",
       "      <td>7.968299e+08</td>\n",
       "    </tr>\n",
       "    <tr>\n",
       "      <th>3</th>\n",
       "      <td>tt0080339</td>\n",
       "      <td>Airplane!</td>\n",
       "      <td>PG</td>\n",
       "      <td>US</td>\n",
       "      <td>Comedy</td>\n",
       "      <td>1980-07-02</td>\n",
       "      <td>1980</td>\n",
       "      <td>July</td>\n",
       "      <td>2.0</td>\n",
       "      <td>7.7</td>\n",
       "      <td>Jim Abrahams</td>\n",
       "      <td>Jim Abrahams</td>\n",
       "      <td>Robert Hays</td>\n",
       "      <td>United States</td>\n",
       "      <td>3500000.0</td>\n",
       "      <td>83453539.0</td>\n",
       "      <td>79953539.0</td>\n",
       "      <td>Paramount Pictures</td>\n",
       "      <td>88.0</td>\n",
       "      <td>director</td>\n",
       "      <td>nm0000720</td>\n",
       "      <td>Jim Abrahams</td>\n",
       "      <td>tt0088286</td>\n",
       "      <td>Top Secret!</td>\n",
       "      <td>20458340.0</td>\n",
       "      <td>11458340.0</td>\n",
       "      <td>9.500268e+07</td>\n",
       "      <td>8.216935e+07</td>\n",
       "      <td>1.606221e+08</td>\n",
       "      <td>1.404318e+08</td>\n",
       "    </tr>\n",
       "    <tr>\n",
       "      <th>4</th>\n",
       "      <td>tt0080487</td>\n",
       "      <td>Caddyshack</td>\n",
       "      <td>R</td>\n",
       "      <td>US</td>\n",
       "      <td>Comedy</td>\n",
       "      <td>1980-07-25</td>\n",
       "      <td>1980</td>\n",
       "      <td>July</td>\n",
       "      <td>25.0</td>\n",
       "      <td>7.3</td>\n",
       "      <td>Harold Ramis</td>\n",
       "      <td>Brian Doyle-Murray</td>\n",
       "      <td>Chevy Chase</td>\n",
       "      <td>United States</td>\n",
       "      <td>6000000.0</td>\n",
       "      <td>39846344.0</td>\n",
       "      <td>33846344.0</td>\n",
       "      <td>Orion Pictures</td>\n",
       "      <td>98.0</td>\n",
       "      <td>actor</td>\n",
       "      <td>nm0000331</td>\n",
       "      <td>Chevy Chase</td>\n",
       "      <td>tt0085995</td>\n",
       "      <td>National Lampoon's Vacation</td>\n",
       "      <td>61399552.0</td>\n",
       "      <td>46399552.0</td>\n",
       "      <td>5.014540e+07</td>\n",
       "      <td>3.314540e+07</td>\n",
       "      <td>2.182655e+08</td>\n",
       "      <td>1.801155e+08</td>\n",
       "    </tr>\n",
       "  </tbody>\n",
       "</table>\n",
       "</div>"
      ],
      "text/plain": [
       "     titleId                                           title rating region  \\\n",
       "0  tt0081505                                     The Shining      R     US   \n",
       "1  tt0080453                                 The Blue Lagoon      R     US   \n",
       "2  tt0080684  Star Wars: Episode V - The Empire Strikes Back     PG     US   \n",
       "3  tt0080339                                       Airplane!     PG     US   \n",
       "4  tt0080487                                      Caddyshack      R     US   \n",
       "\n",
       "       genre   released  year month   day  score         director  \\\n",
       "0      Drama 1980-06-13  1980  June  13.0    8.4  Stanley Kubrick   \n",
       "1  Adventure 1980-07-02  1980  July   2.0    5.8   Randal Kleiser   \n",
       "2     Action 1980-06-20  1980  June  20.0    8.7   Irvin Kershner   \n",
       "3     Comedy 1980-07-02  1980  July   2.0    7.7     Jim Abrahams   \n",
       "4     Comedy 1980-07-25  1980  July  25.0    7.3     Harold Ramis   \n",
       "\n",
       "                    writer            star         country      budget  \\\n",
       "0             Stephen King  Jack Nicholson  United Kingdom  19000000.0   \n",
       "1  Henry De Vere Stacpoole  Brooke Shields   United States   4500000.0   \n",
       "2           Leigh Brackett     Mark Hamill   United States  18000000.0   \n",
       "3             Jim Abrahams     Robert Hays   United States   3500000.0   \n",
       "4       Brian Doyle-Murray     Chevy Chase   United States   6000000.0   \n",
       "\n",
       "         gross       profit             company  runtime  category     nconst  \\\n",
       "0   46998772.0   27998772.0        Warner Bros.    146.0     actor  nm0000197   \n",
       "1   58853106.0   54353106.0   Columbia Pictures    104.0   actress  nm0000222   \n",
       "2  538375067.0  520375067.0           Lucasfilm    124.0     actor  nm0000434   \n",
       "3   83453539.0   79953539.0  Paramount Pictures     88.0  director  nm0000720   \n",
       "4   39846344.0   33846344.0      Orion Pictures     98.0     actor  nm0000331   \n",
       "\n",
       "      primaryName knownForTitlesList  \\\n",
       "0  Jack Nicholson          tt0407887   \n",
       "1  Brooke Shields          tt0080453   \n",
       "2     Mark Hamill          tt0086190   \n",
       "3    Jim Abrahams          tt0088286   \n",
       "4     Chevy Chase          tt0085995   \n",
       "\n",
       "                                    topMovies  grossTopMovies  \\\n",
       "0                                The Departed     291465373.0   \n",
       "1                             The Blue Lagoon      58853106.0   \n",
       "2  Star Wars: Episode VI - Return of the Jedi     475106177.0   \n",
       "3                                 Top Secret!      20458340.0   \n",
       "4                 National Lampoon's Vacation      61399552.0   \n",
       "\n",
       "   profitTopMovies  Avg_grossTopMovies  Avg_profitTopMovies  \\\n",
       "0      201465373.0        3.028217e+08         2.328217e+08   \n",
       "1       54353106.0        5.885311e+07         5.435311e+07   \n",
       "2      442606177.0        7.820600e+08         6.595600e+08   \n",
       "3       11458340.0        9.500268e+07         8.216935e+07   \n",
       "4       46399552.0        5.014540e+07         3.314540e+07   \n",
       "\n",
       "   Total_Gross_Bankability  Total_Profit_Bankability  \n",
       "0             4.650644e+08              3.300644e+08  \n",
       "1             9.625673e+07              8.259007e+07  \n",
       "2             9.515799e+08              7.968299e+08  \n",
       "3             1.606221e+08              1.404318e+08  \n",
       "4             2.182655e+08              1.801155e+08  "
      ]
     },
     "metadata": {},
     "output_type": "display_data"
    },
    {
     "name": "stdout",
     "output_type": "stream",
     "text": [
      "(7278, 30)\n"
     ]
    }
   ],
   "source": [
    "# Import the dataset\n",
    "\n",
    "# Online file\n",
    "data_url = 'https://raw.githubusercontent.com/AustinJamesWolff/Data-Science-Portfolio/main/Box%20Office%20Correlation/Movie%20Data/Movies%20with%20Bankability.csv'\n",
    "\n",
    "def wrangle(filepath):\n",
    "    df = pd.read_csv(data_url)\n",
    "    df['released'] = pd.to_datetime(df['released'])\n",
    "    \n",
    "    # Drop duplicate titleId\n",
    "    df.drop_duplicates(subset=['titleId'], inplace=True)\n",
    "    df.dropna(subset=['gross'], inplace=True)\n",
    "    \n",
    "    pd.set_option('max_columns', None)\n",
    "    df.reset_index(inplace=True)\n",
    "    df.drop(columns=['index'], inplace=True)\n",
    "    return df\n",
    "\n",
    "df = wrangle(data_url)\n",
    "\n",
    "display(df.head())\n",
    "print(df.shape)"
   ]
  },
  {
   "cell_type": "code",
   "execution_count": 456,
   "id": "5fb9429d",
   "metadata": {},
   "outputs": [],
   "source": [
    "# df.isnull().sum()"
   ]
  },
  {
   "cell_type": "code",
   "execution_count": 427,
   "id": "3e5f6190",
   "metadata": {},
   "outputs": [],
   "source": [
    "# Look at rows for purposes of data wrangling\n",
    "# df['country'].value_counts()"
   ]
  },
  {
   "cell_type": "markdown",
   "id": "2ab5b67e",
   "metadata": {},
   "source": [
    "## Feature Wrangling"
   ]
  },
  {
   "cell_type": "code",
   "execution_count": 428,
   "id": "65154adf",
   "metadata": {},
   "outputs": [
    {
     "data": {
      "text/html": [
       "<div>\n",
       "<style scoped>\n",
       "    .dataframe tbody tr th:only-of-type {\n",
       "        vertical-align: middle;\n",
       "    }\n",
       "\n",
       "    .dataframe tbody tr th {\n",
       "        vertical-align: top;\n",
       "    }\n",
       "\n",
       "    .dataframe thead th {\n",
       "        text-align: right;\n",
       "    }\n",
       "</style>\n",
       "<table border=\"1\" class=\"dataframe\">\n",
       "  <thead>\n",
       "    <tr style=\"text-align: right;\">\n",
       "      <th></th>\n",
       "      <th>rating</th>\n",
       "      <th>region</th>\n",
       "      <th>genre</th>\n",
       "      <th>year</th>\n",
       "      <th>month</th>\n",
       "      <th>score</th>\n",
       "      <th>budget</th>\n",
       "      <th>runtime</th>\n",
       "      <th>Total_Gross_Bankability</th>\n",
       "    </tr>\n",
       "  </thead>\n",
       "  <tbody>\n",
       "    <tr>\n",
       "      <th>0</th>\n",
       "      <td>R</td>\n",
       "      <td>US</td>\n",
       "      <td>Drama</td>\n",
       "      <td>1980</td>\n",
       "      <td>June</td>\n",
       "      <td>8.4</td>\n",
       "      <td>19000000.0</td>\n",
       "      <td>146.0</td>\n",
       "      <td>4.650644e+08</td>\n",
       "    </tr>\n",
       "    <tr>\n",
       "      <th>1</th>\n",
       "      <td>R</td>\n",
       "      <td>US</td>\n",
       "      <td>Adventure</td>\n",
       "      <td>1980</td>\n",
       "      <td>July</td>\n",
       "      <td>5.8</td>\n",
       "      <td>4500000.0</td>\n",
       "      <td>104.0</td>\n",
       "      <td>9.625673e+07</td>\n",
       "    </tr>\n",
       "    <tr>\n",
       "      <th>2</th>\n",
       "      <td>PG</td>\n",
       "      <td>US</td>\n",
       "      <td>Action</td>\n",
       "      <td>1980</td>\n",
       "      <td>June</td>\n",
       "      <td>8.7</td>\n",
       "      <td>18000000.0</td>\n",
       "      <td>124.0</td>\n",
       "      <td>9.515799e+08</td>\n",
       "    </tr>\n",
       "    <tr>\n",
       "      <th>3</th>\n",
       "      <td>PG</td>\n",
       "      <td>US</td>\n",
       "      <td>Comedy</td>\n",
       "      <td>1980</td>\n",
       "      <td>July</td>\n",
       "      <td>7.7</td>\n",
       "      <td>3500000.0</td>\n",
       "      <td>88.0</td>\n",
       "      <td>1.606221e+08</td>\n",
       "    </tr>\n",
       "    <tr>\n",
       "      <th>4</th>\n",
       "      <td>R</td>\n",
       "      <td>US</td>\n",
       "      <td>Comedy</td>\n",
       "      <td>1980</td>\n",
       "      <td>July</td>\n",
       "      <td>7.3</td>\n",
       "      <td>6000000.0</td>\n",
       "      <td>98.0</td>\n",
       "      <td>2.182655e+08</td>\n",
       "    </tr>\n",
       "  </tbody>\n",
       "</table>\n",
       "</div>"
      ],
      "text/plain": [
       "  rating region      genre  year month  score      budget  runtime  \\\n",
       "0      R     US      Drama  1980  June    8.4  19000000.0    146.0   \n",
       "1      R     US  Adventure  1980  July    5.8   4500000.0    104.0   \n",
       "2     PG     US     Action  1980  June    8.7  18000000.0    124.0   \n",
       "3     PG     US     Comedy  1980  July    7.7   3500000.0     88.0   \n",
       "4      R     US     Comedy  1980  July    7.3   6000000.0     98.0   \n",
       "\n",
       "   Total_Gross_Bankability  \n",
       "0             4.650644e+08  \n",
       "1             9.625673e+07  \n",
       "2             9.515799e+08  \n",
       "3             1.606221e+08  \n",
       "4             2.182655e+08  "
      ]
     },
     "execution_count": 428,
     "metadata": {},
     "output_type": "execute_result"
    }
   ],
   "source": [
    "# Let's create our X (features) and y (target)\n",
    "\n",
    "def feature_wrangle(dataframe):\n",
    "    \n",
    "    temp_df = copy.deepcopy(dataframe)\n",
    "    \n",
    "    temp_df.drop(columns=['titleId','title','released','gross','profit','day','category','nconst',\n",
    "                    'knownForTitlesList','topMovies','grossTopMovies','profitTopMovies',\n",
    "                     'Avg_grossTopMovies','Avg_profitTopMovies',\n",
    "                    'Total_Profit_Bankability'], inplace=True)\n",
    "    \n",
    "    # NOTE: Perhaps add \"Total_Gross_Bankability\" back in later to see how it affects the model\n",
    "    \n",
    "    # Drop columns with high cardinality, threshold below\n",
    "    \n",
    "    threshold = 20\n",
    "    \n",
    "    high_card_cols = [col for col in temp_df.select_dtypes('object').columns if\n",
    "                     temp_df[col].nunique() > threshold]\n",
    "    \n",
    "    temp_df.drop(columns=high_card_cols, inplace=True)\n",
    "    \n",
    "    return temp_df\n",
    "\n",
    "y = df['gross']\n",
    "X = feature_wrangle(df)\n",
    "X.head()"
   ]
  },
  {
   "cell_type": "code",
   "execution_count": 457,
   "id": "feb4d174",
   "metadata": {},
   "outputs": [],
   "source": [
    "# Examine the X data for further descrepancies.\n",
    "\n",
    "# X.isnull().sum()"
   ]
  },
  {
   "cell_type": "markdown",
   "id": "7fe47f82",
   "metadata": {},
   "source": [
    "## Split The Data"
   ]
  },
  {
   "cell_type": "code",
   "execution_count": 430,
   "id": "e262c39e",
   "metadata": {},
   "outputs": [
    {
     "name": "stdout",
     "output_type": "stream",
     "text": [
      "(1456, 9)\n"
     ]
    }
   ],
   "source": [
    "# Split the data into training and testing\n",
    "\n",
    "X_train, X_test, y_train, y_test = train_test_split(X, y, test_size=0.2, random_state=42)\n",
    "\n",
    "# Look at the shape\n",
    "# print(X_init_train.shape)\n",
    "print(X_test.shape)\n",
    "# X_test.head()"
   ]
  },
  {
   "cell_type": "markdown",
   "id": "d7a92085",
   "metadata": {},
   "source": [
    "## Now we find our Baseline"
   ]
  },
  {
   "cell_type": "code",
   "execution_count": 432,
   "id": "8b5f56e4",
   "metadata": {},
   "outputs": [
    {
     "name": "stdout",
     "output_type": "stream",
     "text": [
      "Baseline MAE: 93,947,168.94\n",
      "Baseline MAPE: 282.409473\n",
      "Baseline R2 score: -0.000994\n"
     ]
    }
   ],
   "source": [
    "# We will now find a baseline\n",
    "\n",
    "model_baseline = make_pipeline(\n",
    "                OneHotEncoder(use_cat_names=True),\n",
    "                DummyRegressor()\n",
    ")\n",
    "\n",
    "# model_baseline.fit(X_train, y_train)\n",
    "\n",
    "scoring = ['neg_mean_absolute_error','neg_mean_absolute_percentage_error','r2']\n",
    "\n",
    "cv_baseline = cross_validate(\n",
    "    model_baseline,\n",
    "    X_train,\n",
    "    y_train,\n",
    "    scoring=scoring,\n",
    "    cv=5\n",
    ")\n",
    "\n",
    "cv_mae_baseline = -cv_baseline['test_neg_mean_absolute_error'].mean()\n",
    "cv_mape_baseline = -cv_baseline['test_neg_mean_absolute_percentage_error'].mean()\n",
    "cv_r2_baseline = cv_baseline['test_r2'].mean()\n",
    "\n",
    "\n",
    "print('Baseline MAE:', '{:,}'.format(cv_mae_baseline.round(2)))\n",
    "\n",
    "print('Baseline MAPE:', '{:,}'.format(cv_mape_baseline.round(6)))\n",
    "\n",
    "print('Baseline R2 score:', '{:,}'.format(cv_r2_baseline.round(6)))\n"
   ]
  },
  {
   "cell_type": "code",
   "execution_count": 433,
   "id": "e13eb73e",
   "metadata": {},
   "outputs": [
    {
     "data": {
      "text/plain": [
       "[['Baseline', 93947168.94098416, 282.4094726588083, -0.0009942019104258292]]"
      ]
     },
     "execution_count": 433,
     "metadata": {},
     "output_type": "execute_result"
    }
   ],
   "source": [
    "model_results = []\n",
    "model_results.append(['Baseline', cv_mae_baseline, cv_mape_baseline, cv_r2_baseline])\n",
    "\n",
    "model_results"
   ]
  },
  {
   "cell_type": "code",
   "execution_count": 434,
   "id": "c229328e",
   "metadata": {},
   "outputs": [
    {
     "name": "stdout",
     "output_type": "stream",
     "text": [
      "Linear Regression (1) MAE: 455,712,698.77\n",
      "Linear Regression (1) MAPE: 178.76018\n",
      "Linear Regression (1) R2 score: -14,205.471755\n",
      "\n",
      "[['Baseline', 93947168.94098416, 282.4094726588083, -0.0009942019104258292], ['LinearRegression_1', 455712698.77130395, 178.76018046173718, -14205.471755238084]]\n"
     ]
    }
   ],
   "source": [
    "# Now we will begin finding the best model (and parameters)\n",
    "\n",
    "# Linear Model #1\n",
    "model_lr_1 = make_pipeline(\n",
    "                OneHotEncoder(use_cat_names=True),\n",
    "                SimpleImputer(strategy='mean'),\n",
    "                LinearRegression()\n",
    ")\n",
    "\n",
    "cv_lr_1 = cross_validate(\n",
    "    model_lr_1,\n",
    "    X_train,\n",
    "    y_train,\n",
    "    scoring=scoring,\n",
    "    cv=5\n",
    ")\n",
    "\n",
    "cv_mae_lr_1 = -cv_lr_1['test_neg_mean_absolute_error'].mean()\n",
    "cv_mape_lr_1 = -cv_lr_1['test_neg_mean_absolute_percentage_error'].mean()\n",
    "cv_r2_lr_1 = cv_lr_1['test_r2'].mean()\n",
    "\n",
    "print('Linear Regression (1) MAE:', '{:,}'.format(cv_mae_lr_1.round(2)))\n",
    "\n",
    "print('Linear Regression (1) MAPE:', '{:,}'.format(cv_mape_lr_1.round(6)))\n",
    "\n",
    "print('Linear Regression (1) R2 score:', '{:,}'.format(cv_r2_lr_1.round(6)))\n",
    "\n",
    "\n",
    "print()\n",
    "model_results.append(['LinearRegression_1', cv_mae_lr_1, cv_mape_lr_1, cv_r2_lr_1])\n",
    "print(model_results)"
   ]
  },
  {
   "cell_type": "markdown",
   "id": "53feb74a",
   "metadata": {},
   "source": [
    "## It appears normal Linear Regression performs significantly worse than the baseline, without any hyperparameter tuning. Let's add another transformer."
   ]
  },
  {
   "cell_type": "code",
   "execution_count": 435,
   "id": "3954ebd5",
   "metadata": {},
   "outputs": [
    {
     "name": "stdout",
     "output_type": "stream",
     "text": [
      "Linear Regression (2) MAE: 4.039487079675694e+17\n",
      "Linear Regression (2) MAPE: 3,207,677,317,315.1016\n",
      "Linear Regression (2) R2 score: -3.033014419394398e+22\n",
      "\n",
      "[['Baseline', 93947168.94098416, 282.4094726588083, -0.0009942019104258292], ['LinearRegression_1', 455712698.77130395, 178.76018046173718, -14205.471755238084], ['LinearRegression_2', 4.039487079675694e+17, 3207677317315.1016, -3.033014419394398e+22]]\n"
     ]
    }
   ],
   "source": [
    "# Linear Model #2, adding \"StandardScaler\"\n",
    "model_lr_2 = make_pipeline(\n",
    "                OneHotEncoder(use_cat_names=True),\n",
    "                SimpleImputer(strategy='mean'),\n",
    "                StandardScaler(),\n",
    "                LinearRegression()\n",
    ")\n",
    "\n",
    "cv_lr_2 = cross_validate(\n",
    "    model_lr_2,\n",
    "    X_train,\n",
    "    y_train,\n",
    "    scoring=scoring,\n",
    "    cv=5\n",
    ")\n",
    "\n",
    "cv_mae_lr_2 = -cv_lr_2['test_neg_mean_absolute_error'].mean()\n",
    "cv_mape_lr_2 = -cv_lr_2['test_neg_mean_absolute_percentage_error'].mean()\n",
    "cv_r2_lr_2 = cv_lr_2['test_r2'].mean()\n",
    "\n",
    "print('Linear Regression (2) MAE:', '{:,}'.format(cv_mae_lr_2.round(2)))\n",
    "\n",
    "print('Linear Regression (2) MAPE:', '{:,}'.format(cv_mape_lr_2.round(6)))\n",
    "\n",
    "print('Linear Regression (2) R2 score:', '{:,}'.format(cv_r2_lr_2.round(6)))\n",
    "\n",
    "\n",
    "print()\n",
    "model_results.append(['LinearRegression_2', cv_mae_lr_2, cv_mape_lr_2, cv_r2_lr_2])\n",
    "print(model_results)"
   ]
  },
  {
   "cell_type": "markdown",
   "id": "1408d50a",
   "metadata": {},
   "source": [
    "Adding StandardScaler() made our Linear Regression even worse. Let's try Ridge."
   ]
  },
  {
   "cell_type": "code",
   "execution_count": 436,
   "id": "3ccf94e3",
   "metadata": {},
   "outputs": [
    {
     "name": "stdout",
     "output_type": "stream",
     "text": [
      "Ridge Regression (1) MAE: 64,164,252.97\n",
      "Ridge Regression (1) MAPE: 130.469053\n",
      "Ridge Regression (1) R2 score: 0.595777\n",
      "\n",
      "[['Baseline', 93947168.94098416, 282.4094726588083, -0.0009942019104258292], ['LinearRegression_1', 455712698.77130395, 178.76018046173718, -14205.471755238084], ['LinearRegression_2', 4.039487079675694e+17, 3207677317315.1016, -3.033014419394398e+22], ['Ridge_1', 64164252.97296071, 130.4690532973758, 0.5957769203095545]]\n"
     ]
    }
   ],
   "source": [
    "# Ridge Model #1\n",
    "model_ridge_1 = make_pipeline(\n",
    "                OneHotEncoder(use_cat_names=True),\n",
    "                SimpleImputer(strategy='mean'),\n",
    "                StandardScaler(), # Wehave to include this. Without scaling our data, Ridge will give us an error.\n",
    "                Ridge()\n",
    ")\n",
    "\n",
    "cv_ridge_1 = cross_validate(\n",
    "    model_ridge_1,\n",
    "    X_train,\n",
    "    y_train,\n",
    "    scoring=scoring,\n",
    "    cv=5\n",
    ")\n",
    "\n",
    "cv_mae_ridge_1 = -cv_ridge_1['test_neg_mean_absolute_error'].mean()\n",
    "cv_mape_ridge_1 = -cv_ridge_1['test_neg_mean_absolute_percentage_error'].mean()\n",
    "cv_r2_ridge_1 = cv_ridge_1['test_r2'].mean()\n",
    "\n",
    "print('Ridge Regression (1) MAE:', '{:,}'.format(cv_mae_ridge_1.round(2)))\n",
    "\n",
    "print('Ridge Regression (1) MAPE:', '{:,}'.format(cv_mape_ridge_1.round(6)))\n",
    "\n",
    "print('Ridge Regression (1) R2 score:', '{:,}'.format(cv_r2_ridge_1.round(6)))\n",
    "\n",
    "\n",
    "print()\n",
    "model_results.append(['Ridge_1', cv_mae_ridge_1, cv_mape_ridge_1, cv_r2_ridge_1])\n",
    "print(model_results)"
   ]
  },
  {
   "cell_type": "markdown",
   "id": "61101a4b",
   "metadata": {},
   "source": [
    "Our Ridge Regression had a better MAE than the baseline! It had an improved R2 score as well. Let's try some different alpha values."
   ]
  },
  {
   "cell_type": "code",
   "execution_count": 437,
   "id": "3dc56973",
   "metadata": {},
   "outputs": [
    {
     "name": "stdout",
     "output_type": "stream",
     "text": [
      "Ridge Regression (2) MAE: 63,796,418.02\n",
      "Ridge Regression (2) MAPE: 128.287068\n",
      "Ridge Regression (2) R2 score: 0.595994\n"
     ]
    }
   ],
   "source": [
    "# Ridge Model #2\n",
    "model_ridge_2 = make_pipeline(\n",
    "                OneHotEncoder(use_cat_names=True),\n",
    "                SimpleImputer(strategy='mean'),\n",
    "                StandardScaler(),\n",
    "                Ridge(alpha=100)\n",
    ")\n",
    "\n",
    "model_ridge_2.fit(X_train, y_train)\n",
    "\n",
    "cv_ridge_2 = cross_validate(\n",
    "    model_ridge_2,\n",
    "    X_train,\n",
    "    y_train,\n",
    "    scoring=scoring,\n",
    "    cv=5\n",
    ")\n",
    "\n",
    "cv_mae_ridge_2 = -cv_ridge_2['test_neg_mean_absolute_error'].mean()\n",
    "cv_mape_ridge_2 = -cv_ridge_2['test_neg_mean_absolute_percentage_error'].mean()\n",
    "cv_r2_ridge_2 = cv_ridge_2['test_r2'].mean()\n",
    "\n",
    "print('Ridge Regression (2) MAE:', '{:,}'.format(cv_mae_ridge_2.round(2)))\n",
    "\n",
    "print('Ridge Regression (2) MAPE:', '{:,}'.format(cv_mape_ridge_2.round(6)))\n",
    "\n",
    "print('Ridge Regression (2) R2 score:', '{:,}'.format(cv_r2_ridge_2.round(6)))\n",
    "\n",
    "\n",
    "model_results.append(['Ridge_2', cv_mae_ridge_2, cv_mape_ridge_2, cv_r2_ridge_2])\n"
   ]
  },
  {
   "cell_type": "markdown",
   "id": "8788d190",
   "metadata": {},
   "source": [
    "Hyperparameter Tuning: Increasing the penalty coefficient alpha from 1 to 100 seems to have slightly improved our MAE (and slightly improved our R2 score). Let's try Random Forest now and see which model performs best before further tuning with RandomizedSearchCV."
   ]
  },
  {
   "cell_type": "code",
   "execution_count": 438,
   "id": "7f71ba55",
   "metadata": {},
   "outputs": [
    {
     "name": "stdout",
     "output_type": "stream",
     "text": [
      "Random Forest (1) MAE: 46,042,151.86\n",
      "Random Forest (1) MAPE: 64.263601\n",
      "Random Forest (1) R2 score: 0.679776\n"
     ]
    }
   ],
   "source": [
    "# Random Forest Model #1, with OrdinalEncoder\n",
    "model_forest_1 = make_pipeline(\n",
    "                OrdinalEncoder(),\n",
    "                SimpleImputer(strategy='mean'),\n",
    "                RandomForestRegressor()\n",
    ")\n",
    "\n",
    "cv_forest_1 = cross_validate(\n",
    "    model_forest_1,\n",
    "    X_train,\n",
    "    y_train,\n",
    "    scoring=scoring,\n",
    "    cv=5\n",
    ")\n",
    "\n",
    "cv_mae_rf_1 = -cv_forest_1['test_neg_mean_absolute_error'].mean()\n",
    "cv_mape_rf_1 = -cv_forest_1['test_neg_mean_absolute_percentage_error'].mean()\n",
    "cv_r2_rf_1 = cv_forest_1['test_r2'].mean()\n",
    "\n",
    "print('Random Forest (1) MAE:', '{:,}'.format(cv_mae_rf_1.round(2)))\n",
    "\n",
    "print('Random Forest (1) MAPE:', '{:,}'.format(cv_mape_rf_1.round(6)))\n",
    "\n",
    "print('Random Forest (1) R2 score:', '{:,}'.format(cv_r2_rf_1.round(6)))\n",
    "\n",
    "\n",
    "model_results.append(['RandomForest_1', cv_mae_rf_1, cv_mape_rf_1, cv_r2_rf_1])\n"
   ]
  },
  {
   "cell_type": "markdown",
   "id": "754e27cd",
   "metadata": {},
   "source": [
    "Random Forest had a higher R2 score and lower MAE and MAPE scores, so we will be moving forward with it. Before we use GridSearchCV (or RandomizedSearchCV if Grid takes too long), I just want to test OrdinalEncoder vs OneHotEncoder."
   ]
  },
  {
   "cell_type": "code",
   "execution_count": 439,
   "id": "64505e14",
   "metadata": {},
   "outputs": [
    {
     "name": "stdout",
     "output_type": "stream",
     "text": [
      "Random Forest (2) MAE: 44,732,966.8\n",
      "Random Forest (2) MAPE: 51.164988\n",
      "Random Forest (2) R2 score: 0.693297\n"
     ]
    }
   ],
   "source": [
    "# Random Forest Model #2, with OneHotEncoder\n",
    "\n",
    "model_forest_2 = make_pipeline(\n",
    "                OneHotEncoder(use_cat_names=True),\n",
    "                SimpleImputer(strategy='mean'),\n",
    "                RandomForestRegressor(),\n",
    ")\n",
    "\n",
    "cv_forest_2 = cross_validate(\n",
    "    model_forest_2,\n",
    "    X_train,\n",
    "    y_train,\n",
    "    scoring=scoring,\n",
    "    cv=5\n",
    ")\n",
    "\n",
    "cv_mae_rf_2 = -cv_forest_2['test_neg_mean_absolute_error'].mean()\n",
    "cv_mape_rf_2 = -cv_forest_2['test_neg_mean_absolute_percentage_error'].mean()\n",
    "cv_r2_rf_2 = cv_forest_2['test_r2'].mean()\n",
    "\n",
    "print('Random Forest (2) MAE:', '{:,}'.format(cv_mae_rf_2.round(2)))\n",
    "\n",
    "print('Random Forest (2) MAPE:', '{:,}'.format(cv_mape_rf_2.round(6)))\n",
    "\n",
    "print('Random Forest (2) R2 score:', '{:,}'.format(cv_r2_rf_2.round(6)))\n",
    "\n",
    "model_results.append(['RandomForest_2', cv_mae_rf_2, cv_mape_rf_2, cv_r2_rf_2])"
   ]
  },
  {
   "cell_type": "markdown",
   "id": "8d3b68d0",
   "metadata": {},
   "source": [
    "It appears OneHotEncoder() gave us better metrics, so we will move forward with that. This was a good lesson in testing your hyperparameters."
   ]
  },
  {
   "cell_type": "markdown",
   "id": "8503020b",
   "metadata": {},
   "source": [
    "## Let's use a SearchCV to find optimal parameters for our RandomForest (Commented out to reduce computation time when running full notebook)"
   ]
  },
  {
   "cell_type": "code",
   "execution_count": 440,
   "id": "d6f057f5",
   "metadata": {},
   "outputs": [],
   "source": [
    "# Using SearchCV to tune our RandomForest\n",
    "\n",
    "\n",
    "# params = {\n",
    "#     \"simpleimputer__strategy\": ['mean','median'],\n",
    "#     \"randomforestregressor__n_estimators\": [75, 100, 200],\n",
    "#     \"randomforestregressor__max_depth\": [None, 100],\n",
    "#     \"randomforestregressor__min_samples_leaf\": [1, 0.1],\n",
    "# }\n",
    "\n",
    "\n",
    "# model_grid_rf = GridSearchCV(\n",
    "#     model_forest_2,\n",
    "#     param_grid = params,\n",
    "#     n_jobs=-1,\n",
    "#     cv=5,\n",
    "# #     verbose=3\n",
    "# )\n",
    "\n",
    "# model_grid_rf.fit(X_train, y_train)\n",
    "\n",
    "# print(model_grid_rf.best_params_)"
   ]
  },
  {
   "cell_type": "markdown",
   "id": "8fdc512a",
   "metadata": {},
   "source": [
    "## We will now build a new RandomForest with these best parameters"
   ]
  },
  {
   "cell_type": "code",
   "execution_count": 442,
   "id": "e45e6432",
   "metadata": {},
   "outputs": [
    {
     "name": "stdout",
     "output_type": "stream",
     "text": [
      "Random Forest (3) MAE: 44,574,296.85\n",
      "Random Forest (3) MAPE: 51.626111\n",
      "Random Forest (3) R2 score: 0.692829\n"
     ]
    }
   ],
   "source": [
    "# RaomdForest 3 with new hyperparameters\n",
    "\n",
    "model_forest_3 = make_pipeline(\n",
    "                OneHotEncoder(use_cat_names=True),\n",
    "                SimpleImputer(strategy='mean'),\n",
    "                RandomForestRegressor(max_depth=None,\n",
    "                                     min_samples_leaf=1,\n",
    "                                     n_estimators=100\n",
    "                                     )\n",
    ")\n",
    "\n",
    "model_forest_3.fit(X_train, y_train)\n",
    "\n",
    "cv_forest_3 = cross_validate(\n",
    "    model_forest_3,\n",
    "    X_train,\n",
    "    y_train,\n",
    "    scoring=scoring,\n",
    "    cv=5\n",
    ")\n",
    "\n",
    "cv_mae_rf_3 = -cv_forest_3['test_neg_mean_absolute_error'].mean()\n",
    "cv_mape_rf_3 = -cv_forest_3['test_neg_mean_absolute_percentage_error'].mean()\n",
    "cv_r2_rf_3 = cv_forest_3['test_r2'].mean()\n",
    "\n",
    "print('Random Forest (3) MAE:', '{:,}'.format(cv_mae_rf_3.round(2)))\n",
    "\n",
    "print('Random Forest (3) MAPE:', '{:,}'.format(cv_mape_rf_3.round(6)))\n",
    "\n",
    "print('Random Forest (3) R2 score:', '{:,}'.format(cv_r2_rf_3.round(6)))\n",
    "\n",
    "model_results.append(['RandomForest_3', cv_mae_rf_3, cv_mape_rf_3, cv_r2_rf_3])"
   ]
  },
  {
   "cell_type": "markdown",
   "id": "31ad7722",
   "metadata": {},
   "source": [
    "## Now we will score the models on the test data"
   ]
  },
  {
   "cell_type": "code",
   "execution_count": 444,
   "id": "e28b64e2",
   "metadata": {},
   "outputs": [
    {
     "name": "stdout",
     "output_type": "stream",
     "text": [
      "Ridge Test R2 Score: 0.589758\n",
      "Random Forest Test R2 Score: 0.675067\n"
     ]
    }
   ],
   "source": [
    "# Let's test Ridge_2 and RandomForest_3\n",
    "\n",
    "print('Ridge Test R2 Score:', '{:,}'.format(model_ridge_2.score(X_test, y_test).round(6)))\n",
    "\n",
    "print('Random Forest Test R2 Score:', '{:,}'.format(model_forest_3.score(X_test, y_test).round(6)))\n"
   ]
  },
  {
   "cell_type": "markdown",
   "id": "4537aac4",
   "metadata": {},
   "source": [
    "## Let's store our predictions into a DataFrame"
   ]
  },
  {
   "cell_type": "code",
   "execution_count": 445,
   "id": "0f7a71c3",
   "metadata": {
    "scrolled": false
   },
   "outputs": [
    {
     "data": {
      "text/html": [
       "<div>\n",
       "<style scoped>\n",
       "    .dataframe tbody tr th:only-of-type {\n",
       "        vertical-align: middle;\n",
       "    }\n",
       "\n",
       "    .dataframe tbody tr th {\n",
       "        vertical-align: top;\n",
       "    }\n",
       "\n",
       "    .dataframe thead th {\n",
       "        text-align: right;\n",
       "    }\n",
       "</style>\n",
       "<table border=\"1\" class=\"dataframe\">\n",
       "  <thead>\n",
       "    <tr style=\"text-align: right;\">\n",
       "      <th></th>\n",
       "      <th>Predictions</th>\n",
       "      <th>gross</th>\n",
       "    </tr>\n",
       "  </thead>\n",
       "  <tbody>\n",
       "    <tr>\n",
       "      <th>6060</th>\n",
       "      <td>11667771.66</td>\n",
       "      <td>60159584.0</td>\n",
       "    </tr>\n",
       "    <tr>\n",
       "      <th>6626</th>\n",
       "      <td>98233642.94</td>\n",
       "      <td>9169507.0</td>\n",
       "    </tr>\n",
       "    <tr>\n",
       "      <th>6750</th>\n",
       "      <td>5274580.12</td>\n",
       "      <td>14725.0</td>\n",
       "    </tr>\n",
       "    <tr>\n",
       "      <th>3689</th>\n",
       "      <td>5517266.70</td>\n",
       "      <td>3645107.0</td>\n",
       "    </tr>\n",
       "    <tr>\n",
       "      <th>4516</th>\n",
       "      <td>5022367.20</td>\n",
       "      <td>916051.0</td>\n",
       "    </tr>\n",
       "    <tr>\n",
       "      <th>...</th>\n",
       "      <td>...</td>\n",
       "      <td>...</td>\n",
       "    </tr>\n",
       "    <tr>\n",
       "      <th>2876</th>\n",
       "      <td>89496337.94</td>\n",
       "      <td>43312294.0</td>\n",
       "    </tr>\n",
       "    <tr>\n",
       "      <th>325</th>\n",
       "      <td>21275840.44</td>\n",
       "      <td>2494480.0</td>\n",
       "    </tr>\n",
       "    <tr>\n",
       "      <th>2206</th>\n",
       "      <td>14051638.23</td>\n",
       "      <td>6608687.0</td>\n",
       "    </tr>\n",
       "    <tr>\n",
       "      <th>290</th>\n",
       "      <td>11247172.43</td>\n",
       "      <td>2914328.0</td>\n",
       "    </tr>\n",
       "    <tr>\n",
       "      <th>6838</th>\n",
       "      <td>66426907.20</td>\n",
       "      <td>23468586.0</td>\n",
       "    </tr>\n",
       "  </tbody>\n",
       "</table>\n",
       "<p>1456 rows × 2 columns</p>\n",
       "</div>"
      ],
      "text/plain": [
       "      Predictions       gross\n",
       "6060  11667771.66  60159584.0\n",
       "6626  98233642.94   9169507.0\n",
       "6750   5274580.12     14725.0\n",
       "3689   5517266.70   3645107.0\n",
       "4516   5022367.20    916051.0\n",
       "...           ...         ...\n",
       "2876  89496337.94  43312294.0\n",
       "325   21275840.44   2494480.0\n",
       "2206  14051638.23   6608687.0\n",
       "290   11247172.43   2914328.0\n",
       "6838  66426907.20  23468586.0\n",
       "\n",
       "[1456 rows x 2 columns]"
      ]
     },
     "execution_count": 445,
     "metadata": {},
     "output_type": "execute_result"
    }
   ],
   "source": [
    "y_pred = pd.DataFrame(model_forest_3.predict(X_test), index=X_test.index, columns=['Predictions'])\n",
    "y_pred_df = y_pred.merge(y_test, how='outer', left_index=True, right_index=True)\n",
    "y_pred_df"
   ]
  },
  {
   "cell_type": "markdown",
   "id": "f86358b7",
   "metadata": {},
   "source": [
    "## Document and Visualize Permutation Importance"
   ]
  },
  {
   "cell_type": "code",
   "execution_count": 446,
   "id": "52f1be6d",
   "metadata": {},
   "outputs": [
    {
     "data": {
      "text/plain": [
       "array(['rating_R', 'rating_PG-13', 'rating_PG', 'rating_G',\n",
       "       'rating_Not Rated', 'rating_NC-17', 'rating_Unrated',\n",
       "       'rating_TV-PG', 'rating_TV-MA', 'rating_nan', 'rating_Approved',\n",
       "       'rating_TV-14', 'rating_X', 'region_US', 'genre_Crime',\n",
       "       'genre_Drama', 'genre_Action', 'genre_Fantasy', 'genre_Animation',\n",
       "       'genre_Comedy', 'genre_Biography', 'genre_Adventure',\n",
       "       'genre_Horror', 'genre_Romance', 'genre_Family', 'genre_Mystery',\n",
       "       'genre_Western', 'genre_Thriller', 'genre_Music', 'genre_Sci-Fi',\n",
       "       'genre_Sport', 'genre_Musical', 'year', 'month_August',\n",
       "       'month_September', 'month_May', 'month_June', 'month_November',\n",
       "       'month_February', 'month_March', 'month_December', 'month_January',\n",
       "       'month_July', 'month_April', 'month_October', 'month_nan', 'score',\n",
       "       'budget', 'runtime', 'Total_Gross_Bankability'], dtype=object)"
      ]
     },
     "execution_count": 446,
     "metadata": {},
     "output_type": "execute_result"
    }
   ],
   "source": [
    "model_forest_3[1].feature_names_in_"
   ]
  },
  {
   "cell_type": "code",
   "execution_count": 447,
   "id": "f807b34f",
   "metadata": {
    "scrolled": true
   },
   "outputs": [
    {
     "data": {
      "text/plain": [
       "rating_R                   7.357117e-03\n",
       "rating_PG-13               3.304115e-03\n",
       "rating_PG                  2.975404e-03\n",
       "rating_G                   1.253501e-03\n",
       "rating_Not Rated           1.297115e-04\n",
       "rating_NC-17               2.064261e-06\n",
       "rating_Unrated             1.608985e-06\n",
       "rating_TV-PG               4.594772e-05\n",
       "rating_TV-MA               1.054099e-03\n",
       "rating_nan                 4.457071e-04\n",
       "rating_Approved            1.121437e-06\n",
       "rating_TV-14               1.513335e-08\n",
       "rating_X                   3.602520e-06\n",
       "region_US                  0.000000e+00\n",
       "genre_Crime                1.023748e-03\n",
       "genre_Drama                2.937562e-03\n",
       "genre_Action               4.052019e-03\n",
       "genre_Fantasy              6.993743e-05\n",
       "genre_Animation            7.991100e-03\n",
       "genre_Comedy               2.366115e-03\n",
       "genre_Biography            8.100896e-04\n",
       "genre_Adventure            2.810452e-03\n",
       "genre_Horror               1.995590e-03\n",
       "genre_Romance              2.336132e-06\n",
       "genre_Family               3.523277e-03\n",
       "genre_Mystery              4.371669e-04\n",
       "genre_Western              4.511780e-07\n",
       "genre_Thriller             1.445761e-05\n",
       "genre_Music                2.104103e-09\n",
       "genre_Sci-Fi               1.969481e-05\n",
       "genre_Sport                2.815388e-08\n",
       "genre_Musical              3.823241e-08\n",
       "year                       4.350449e-02\n",
       "month_August               2.397428e-03\n",
       "month_September            2.570715e-03\n",
       "month_May                  9.792631e-03\n",
       "month_June                 4.293371e-03\n",
       "month_November             3.766003e-03\n",
       "month_February             2.073183e-03\n",
       "month_March                1.793518e-03\n",
       "month_December             3.184644e-03\n",
       "month_January              1.440204e-03\n",
       "month_July                 7.617109e-03\n",
       "month_April                3.747850e-03\n",
       "month_October              2.361221e-03\n",
       "month_nan                  7.011164e-07\n",
       "score                      7.650219e-02\n",
       "budget                     5.531971e-01\n",
       "runtime                    4.552442e-02\n",
       "Total_Gross_Bankability    1.916051e-01\n",
       "dtype: float64"
      ]
     },
     "execution_count": 447,
     "metadata": {},
     "output_type": "execute_result"
    }
   ],
   "source": [
    "importances = pd.Series(model_forest_3.steps[2][1].feature_importances_, model_forest_3[1].feature_names_in_)\n",
    "importances"
   ]
  },
  {
   "cell_type": "code",
   "execution_count": 448,
   "id": "46eb4612",
   "metadata": {},
   "outputs": [
    {
     "data": {
      "image/png": "[encoded data removed]",
      "text/plain": [
       "<Figure size 720x360 with 1 Axes>"
      ]
     },
     "metadata": {
      "needs_background": "light"
     },
     "output_type": "display_data"
    }
   ],
   "source": [
    "n = 10\n",
    "plt.figure(figsize=(10, n/2))\n",
    "plt.title(f'Top {n} features')\n",
    "importances.sort_values()[-n:].plot(kind='barh')\n",
    "plt.show()"
   ]
  },
  {
   "cell_type": "markdown",
   "id": "1ca7bf43",
   "metadata": {},
   "source": [
    "## Let's see how permutation affects accuracy"
   ]
  },
  {
   "cell_type": "code",
   "execution_count": 449,
   "id": "73fd77f0",
   "metadata": {},
   "outputs": [],
   "source": [
    "perm_feature = 'budget'\n",
    "X_test_permuted = copy.deepcopy(X_test)\n",
    "\n",
    "X_test_permuted[perm_feature].fillna(X_test_permuted[perm_feature].median(), inplace=True)\n"
   ]
  },
  {
   "cell_type": "code",
   "execution_count": 450,
   "id": "44f50b2a",
   "metadata": {},
   "outputs": [
    {
     "name": "stdout",
     "output_type": "stream",
     "text": [
      "Feature permuted: budget\n",
      "Validation Accuracy: 0.6750668670654216\n",
      "Validation Accuracy (permuted): -0.12406118126553367\n"
     ]
    }
   ],
   "source": [
    "X_test_permuted[perm_feature] = np.random.permutation(X_test[perm_feature])\n",
    "\n",
    "print('Feature permuted:', perm_feature)\n",
    "print('Validation Accuracy:', model_forest_3.score(X_test, y_test))\n",
    "print('Validation Accuracy (permuted):', model_forest_3.score(X_test_permuted, y_test))"
   ]
  },
  {
   "cell_type": "markdown",
   "id": "3a07ee44",
   "metadata": {},
   "source": [
    "## Use XGBoost (Document results above)"
   ]
  },
  {
   "cell_type": "code",
   "execution_count": 451,
   "id": "c8356f37",
   "metadata": {},
   "outputs": [
    {
     "name": "stdout",
     "output_type": "stream",
     "text": [
      "XGBoost (1) MAE: 46,871,928.98\n",
      "XGBoost (1) MAPE: 70.922318\n",
      "XGBoost (1) R2 score: 0.681246\n"
     ]
    }
   ],
   "source": [
    "# Try XGBoost\n",
    "\n",
    "model_xgb_1 = make_pipeline(\n",
    "                OneHotEncoder(use_cat_names=True),\n",
    "                SimpleImputer(strategy='mean'),\n",
    "                XGBRegressor(),\n",
    "#                 verbose=2\n",
    ")\n",
    "\n",
    "model_xgb_1.fit(X_train, y_train)\n",
    "\n",
    "cv_xgb_1 = cross_validate(\n",
    "    model_xgb_1,\n",
    "    X_train,\n",
    "    y_train,\n",
    "    scoring=scoring,\n",
    "    cv=5\n",
    ")\n",
    "\n",
    "cv_mae_xgb_1 = -cv_xgb_1['test_neg_mean_absolute_error'].mean()\n",
    "cv_mape_xgb_1 = -cv_xgb_1['test_neg_mean_absolute_percentage_error'].mean()\n",
    "cv_r2_xgb_1 = cv_xgb_1['test_r2'].mean()\n",
    "\n",
    "print('XGBoost (1) MAE:', '{:,}'.format(cv_mae_xgb_1.round(2)))\n",
    "\n",
    "print('XGBoost (1) MAPE:', '{:,}'.format(cv_mape_xgb_1.round(6)))\n",
    "\n",
    "print('XGBoost (1) R2 score:', '{:,}'.format(cv_r2_xgb_1.round(6)))\n",
    "\n",
    "model_results.append(['XGB_1', cv_mae_xgb_1, cv_mape_xgb_1, cv_r2_xgb_1])"
   ]
  },
  {
   "cell_type": "code",
   "execution_count": 452,
   "id": "e55d3824",
   "metadata": {},
   "outputs": [
    {
     "data": {
      "text/plain": [
       "XGBRegressor()"
      ]
     },
     "execution_count": 452,
     "metadata": {},
     "output_type": "execute_result"
    }
   ],
   "source": [
    "model_xgb_1[2]"
   ]
  },
  {
   "cell_type": "markdown",
   "id": "2b382e91",
   "metadata": {},
   "source": [
    "## Tuning XGBoost Hyperparameters (Commented out to reduce computation time when running full notebook)"
   ]
  },
  {
   "cell_type": "code",
   "execution_count": 453,
   "id": "61e5a53c",
   "metadata": {},
   "outputs": [],
   "source": [
    "# Let's try different hyperparameters\n",
    "\n",
    "# xgb_params = {\n",
    "#     \"xgbregressor__max_depth\": [3,6,10],\n",
    "#     \"xgbregressor__learning_rate\": [0.01,0.1,0.3],\n",
    "#     \"xgbregressor__n_estimators\": [100, 500, 1000],\n",
    "#     \"xgbregressor__colsample_bytree\": [0.1, 0.5, 1]\n",
    "# }\n",
    "\n",
    "# xgb_grid_1 = GridSearchCV(model_xgb_1,\n",
    "#                          param_grid=xgb_params,\n",
    "#                          n_jobs=-1,\n",
    "#                         scoring='r2',\n",
    "#                           cv=2,\n",
    "#                          verbose=3)\n",
    "\n",
    "# xgb_grid_1.fit(X_train, y_train)\n",
    "\n",
    "# print(xgb_grid_1.best_params_)\n",
    "\n",
    "# print(xgb_grid_1.best_score_)"
   ]
  },
  {
   "cell_type": "markdown",
   "id": "48f3a07c",
   "metadata": {},
   "source": [
    "## Use Best Parameters for XGBoost"
   ]
  },
  {
   "cell_type": "code",
   "execution_count": 454,
   "id": "e3fcc6b7",
   "metadata": {},
   "outputs": [
    {
     "name": "stdout",
     "output_type": "stream",
     "text": [
      "XGBoost (2) MAE: 45,012,162.42\n",
      "XGBoost (2) MAPE: 56.752657\n",
      "XGBoost (2) R2 score: 0.70057\n"
     ]
    }
   ],
   "source": [
    "model_xgb_2 = make_pipeline(\n",
    "                OneHotEncoder(use_cat_names=True),\n",
    "                SimpleImputer(strategy='mean'),\n",
    "                XGBRegressor(colsample_bytree=0.5,\n",
    "                            learning_rate=0.01,\n",
    "                            max_depth=6,\n",
    "                            n_estimators=1000),\n",
    "#                 verbose=2\n",
    ")\n",
    "\n",
    "model_xgb_2.fit(X_train, y_train)\n",
    "\n",
    "cv_xgb_2 = cross_validate(\n",
    "    model_xgb_2,\n",
    "    X_train,\n",
    "    y_train,\n",
    "    scoring=scoring,\n",
    "    cv=5\n",
    ")\n",
    "\n",
    "cv_mae_xgb_2 = -cv_xgb_2['test_neg_mean_absolute_error'].mean()\n",
    "cv_mape_xgb_2 = -cv_xgb_2['test_neg_mean_absolute_percentage_error'].mean()\n",
    "cv_r2_xgb_2 = cv_xgb_2['test_r2'].mean()\n",
    "\n",
    "print('XGBoost (2) MAE:', '{:,}'.format(cv_mae_xgb_2.round(2)))\n",
    "\n",
    "print('XGBoost (2) MAPE:', '{:,}'.format(cv_mape_xgb_2.round(6)))\n",
    "\n",
    "print('XGBoost (2) R2 score:', '{:,}'.format(cv_r2_xgb_2.round(6)))\n",
    "\n",
    "model_results.append(['XGB_2', cv_mae_xgb_2, cv_mape_xgb_2, cv_r2_xgb_2])"
   ]
  },
  {
   "cell_type": "markdown",
   "id": "4ad5220e",
   "metadata": {},
   "source": [
    "## Now let's try XGBoost on the test data"
   ]
  },
  {
   "cell_type": "code",
   "execution_count": 455,
   "id": "32303b40",
   "metadata": {},
   "outputs": [
    {
     "data": {
      "text/plain": [
       "0.7136500250873256"
      ]
     },
     "execution_count": 455,
     "metadata": {},
     "output_type": "execute_result"
    }
   ],
   "source": [
    "model_xgb_2.score(X_test, y_test)"
   ]
  },
  {
   "cell_type": "markdown",
   "id": "a1edf569",
   "metadata": {},
   "source": [
    "XGBoost with tuned hyperparameters performed the best on validation and testing data."
   ]
  },
  {
   "cell_type": "markdown",
   "id": "ad3016b9",
   "metadata": {},
   "source": [
    "---"
   ]
  },
  {
   "cell_type": "markdown",
   "id": "431acb3b",
   "metadata": {},
   "source": [
    "## Other things to try in the future:\n",
    "\n",
    "1. Our data is right-skewed, so try log-transforming our gross column\n",
    "2. Remove outliers (using any movies with a gross outside the 3rd IQR)\n"
   ]
  }
 ],
 "metadata": {
  "kernelspec": {
   "display_name": "Python 3 (ipykernel)",
   "language": "python",
   "name": "python3"
  },
  "language_info": {
   "codemirror_mode": {
    "name": "ipython",
    "version": 3
   },
   "file_extension": ".py",
   "mimetype": "text/x-python",
   "name": "python",
   "nbconvert_exporter": "python",
   "pygments_lexer": "ipython3",
   "version": "3.9.3"
  }
 },
 "nbformat": 4,
 "nbformat_minor": 5
}
